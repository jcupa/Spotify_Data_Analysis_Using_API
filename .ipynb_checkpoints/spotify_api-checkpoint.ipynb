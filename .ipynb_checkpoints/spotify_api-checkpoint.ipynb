{
 "cells": [
  {
   "cell_type": "markdown",
   "id": "26659df0-a62d-4fd4-abf6-3dfb1cdc9f9a",
   "metadata": {},
   "source": [
    "# Obtaining Data from Spotify API"
   ]
  },
  {
   "cell_type": "markdown",
   "id": "d8dd8fe3-353d-4d12-a49e-b273df4ae30d",
   "metadata": {},
   "source": [
    "## Creating Access Token"
   ]
  },
  {
   "cell_type": "code",
   "execution_count": 1,
   "id": "eb4fe5a7-bf9f-4a05-963a-7ac114d183e1",
   "metadata": {
    "execution": {
     "iopub.execute_input": "2021-11-29T22:32:46.790289Z",
     "iopub.status.busy": "2021-11-29T22:32:46.790112Z",
     "iopub.status.idle": "2021-11-29T22:32:48.172119Z",
     "shell.execute_reply": "2021-11-29T22:32:48.171482Z",
     "shell.execute_reply.started": "2021-11-29T22:32:46.790241Z"
    },
    "tags": []
   },
   "outputs": [
    {
     "name": "stderr",
     "output_type": "stream",
     "text": [
      "/usr/lib/python3/dist-packages/requests/__init__.py:89: RequestsDependencyWarning: urllib3 (1.26.7) or chardet (3.0.4) doesn't match a supported version!\n",
      "  warnings.warn(\"urllib3 ({}) or chardet ({}) doesn't match a supported \"\n"
     ]
    }
   ],
   "source": [
    "import requests\n",
    "import numpy as np\n",
    "import pandas as pd\n",
    "import seaborn as sns"
   ]
  },
  {
   "cell_type": "code",
   "execution_count": 2,
   "id": "74bad27c-19fa-4b66-afd6-950e9e126d84",
   "metadata": {
    "execution": {
     "iopub.execute_input": "2021-11-29T22:32:48.172943Z",
     "iopub.status.busy": "2021-11-29T22:32:48.172805Z",
     "iopub.status.idle": "2021-11-29T22:32:48.176322Z",
     "shell.execute_reply": "2021-11-29T22:32:48.175539Z",
     "shell.execute_reply.started": "2021-11-29T22:32:48.172927Z"
    },
    "tags": []
   },
   "outputs": [],
   "source": [
    "Client_ID=\"a935b8cf62cb47ebabdf2ba5abda22ba\"\n",
    "Client_Secret=\"4141b14831444331a3d0cec6510628cb\""
   ]
  },
  {
   "cell_type": "code",
   "execution_count": 3,
   "id": "975d4c03-8df5-4c39-9943-d72b8e009acd",
   "metadata": {
    "execution": {
     "iopub.execute_input": "2021-11-29T22:32:48.177527Z",
     "iopub.status.busy": "2021-11-29T22:32:48.177269Z",
     "iopub.status.idle": "2021-11-29T22:32:48.184139Z",
     "shell.execute_reply": "2021-11-29T22:32:48.183391Z",
     "shell.execute_reply.started": "2021-11-29T22:32:48.177493Z"
    },
    "tags": []
   },
   "outputs": [],
   "source": [
    "url_auth='https://accounts.spotify.com/api/token'"
   ]
  },
  {
   "cell_type": "code",
   "execution_count": 4,
   "id": "a8c2d060-4d34-4765-868c-3e6bd5965095",
   "metadata": {
    "execution": {
     "iopub.execute_input": "2021-11-29T22:32:48.186420Z",
     "iopub.status.busy": "2021-11-29T22:32:48.185835Z",
     "iopub.status.idle": "2021-11-29T22:32:48.694074Z",
     "shell.execute_reply": "2021-11-29T22:32:48.693437Z",
     "shell.execute_reply.started": "2021-11-29T22:32:48.186401Z"
    },
    "tags": []
   },
   "outputs": [],
   "source": [
    "#requesting token\n",
    "auth_request=requests.post(url_auth,{\n",
    "    \"grant_type\": 'client_credentials',\n",
    "    \"client_id\":Client_ID,\n",
    "    \"client_secret\":Client_Secret,\n",
    "})"
   ]
  },
  {
   "cell_type": "code",
   "execution_count": 5,
   "id": "4ba9240a-a309-4314-bbd1-95567cda7101",
   "metadata": {
    "execution": {
     "iopub.execute_input": "2021-11-29T22:32:48.695441Z",
     "iopub.status.busy": "2021-11-29T22:32:48.695110Z",
     "iopub.status.idle": "2021-11-29T22:32:48.699174Z",
     "shell.execute_reply": "2021-11-29T22:32:48.698432Z",
     "shell.execute_reply.started": "2021-11-29T22:32:48.695420Z"
    },
    "tags": []
   },
   "outputs": [],
   "source": [
    "access_token=auth_request.json()[\"access_token\"] #extracting token\n",
    "# access_token"
   ]
  },
  {
   "cell_type": "code",
   "execution_count": 6,
   "id": "8b36978d-84a8-492d-8ac6-c0eff389f5a2",
   "metadata": {
    "execution": {
     "iopub.execute_input": "2021-11-29T22:32:48.700260Z",
     "iopub.status.busy": "2021-11-29T22:32:48.700044Z",
     "iopub.status.idle": "2021-11-29T22:32:48.704407Z",
     "shell.execute_reply": "2021-11-29T22:32:48.703593Z",
     "shell.execute_reply.started": "2021-11-29T22:32:48.700242Z"
    },
    "tags": []
   },
   "outputs": [],
   "source": [
    "header={\"Authorization\":\"Bearer \"+ access_token} #generating identification header\n",
    "# header"
   ]
  },
  {
   "cell_type": "markdown",
   "id": "959f1580-13ef-47b8-b833-3825a51c5ddf",
   "metadata": {},
   "source": [
    "## Requesting Artists Information"
   ]
  },
  {
   "cell_type": "code",
   "execution_count": 7,
   "id": "f7f628c4-f193-48e1-8ccd-6bf43c996e58",
   "metadata": {
    "execution": {
     "iopub.execute_input": "2021-11-29T22:32:48.705711Z",
     "iopub.status.busy": "2021-11-29T22:32:48.705292Z",
     "iopub.status.idle": "2021-11-29T22:32:48.708792Z",
     "shell.execute_reply": "2021-11-29T22:32:48.708101Z",
     "shell.execute_reply.started": "2021-11-29T22:32:48.705694Z"
    },
    "tags": []
   },
   "outputs": [],
   "source": [
    "url_artist=\"https://api.spotify.com/v1/artists/{}\" #url to obtain artist's information"
   ]
  },
  {
   "cell_type": "code",
   "execution_count": 8,
   "id": "e5cc7d55-9804-4fd7-b58a-178079dd4559",
   "metadata": {
    "execution": {
     "iopub.execute_input": "2021-11-29T22:32:48.710753Z",
     "iopub.status.busy": "2021-11-29T22:32:48.710152Z",
     "iopub.status.idle": "2021-11-29T22:32:48.715602Z",
     "shell.execute_reply": "2021-11-29T22:32:48.714837Z",
     "shell.execute_reply.started": "2021-11-29T22:32:48.710725Z"
    },
    "tags": []
   },
   "outputs": [],
   "source": [
    "artist_ids=[\"4q3ewBCX7sLwd24euuV69X\",\"3q7HBObVc0L8jNeTe5Gofh\"] #id of artist for testing"
   ]
  },
  {
   "cell_type": "code",
   "execution_count": 9,
   "id": "9512d07b-e9d0-48f0-b59f-aa75ba15f251",
   "metadata": {
    "execution": {
     "iopub.execute_input": "2021-11-29T22:32:48.717016Z",
     "iopub.status.busy": "2021-11-29T22:32:48.716471Z",
     "iopub.status.idle": "2021-11-29T22:32:48.721493Z",
     "shell.execute_reply": "2021-11-29T22:32:48.720791Z",
     "shell.execute_reply.started": "2021-11-29T22:32:48.716992Z"
    },
    "tags": []
   },
   "outputs": [],
   "source": [
    "#creating function to request artist's informartion and save it in a dictionary\n",
    "def artist_info(artist_ids):\n",
    "    total_data=[]\n",
    "        \n",
    "    for i in artist_ids:\n",
    "        artist_data=requests.get(url_artist.format(i),headers=header)\n",
    "        artist_data=artist_data.json()    \n",
    "        data_artist={\"Name\":artist_data[\"name\"],\n",
    "                     \"Followers\":artist_data[\"followers\"][\"total\"],\n",
    "                     \"Popularity\":artist_data[\"popularity\"],\n",
    "                     \"Genres\":artist_data[\"genres\"]            \n",
    "        }\n",
    "        total_data.append(data_artist)\n",
    "    \n",
    "    return total_data\n",
    "    "
   ]
  },
  {
   "cell_type": "code",
   "execution_count": 10,
   "id": "9aba7ff5-f07c-4118-b118-b0aeb03c3435",
   "metadata": {
    "execution": {
     "iopub.execute_input": "2021-11-29T22:32:48.722579Z",
     "iopub.status.busy": "2021-11-29T22:32:48.722285Z",
     "iopub.status.idle": "2021-11-29T22:32:49.742047Z",
     "shell.execute_reply": "2021-11-29T22:32:49.741396Z",
     "shell.execute_reply.started": "2021-11-29T22:32:48.722561Z"
    },
    "tags": []
   },
   "outputs": [],
   "source": [
    "data=artist_info(artist_ids)\n",
    "# data # checking if function works properly "
   ]
  },
  {
   "cell_type": "markdown",
   "id": "4e01df3e-99b2-4a0a-85be-615193b82d01",
   "metadata": {},
   "source": [
    "## Data analysis"
   ]
  },
  {
   "cell_type": "markdown",
   "id": "7123643d-8ee0-48ab-837d-44e0bd673057",
   "metadata": {
    "execution": {
     "iopub.execute_input": "2021-11-26T16:15:08.332829Z",
     "iopub.status.busy": "2021-11-26T16:15:08.331902Z",
     "iopub.status.idle": "2021-11-26T16:15:08.336211Z",
     "shell.execute_reply": "2021-11-26T16:15:08.335525Z",
     "shell.execute_reply.started": "2021-11-26T16:15:08.332810Z"
    }
   },
   "source": [
    "### Creating The Data Set"
   ]
  },
  {
   "cell_type": "markdown",
   "id": "06f9e350-e020-4bb5-815b-41294377c0f4",
   "metadata": {},
   "source": [
    "I will compare the information of the 5 most popular artists in North America vs the 5 most popular artists in Latin America in 2021. The idea is to understand how big is the market for artists in North America compared to artist from Latin America. Also, I will look into the genres that the artists play and look if there are some similarities between them."
   ]
  },
  {
   "cell_type": "code",
   "execution_count": 11,
   "id": "73300b50-d522-4913-91db-3210301f681e",
   "metadata": {
    "execution": {
     "iopub.execute_input": "2021-11-29T22:32:49.743457Z",
     "iopub.status.busy": "2021-11-29T22:32:49.742907Z",
     "iopub.status.idle": "2021-11-29T22:32:49.746874Z",
     "shell.execute_reply": "2021-11-29T22:32:49.746165Z",
     "shell.execute_reply.started": "2021-11-29T22:32:49.743438Z"
    },
    "tags": []
   },
   "outputs": [],
   "source": [
    "LA_artists_ids=[\"1vyhD5VmyZ7KMfW5gqLgo5\",\"4q3ewBCX7sLwd24euuV69X\",\"1i8SpTcr7yvPOmcqrbnVXY\",\"4VMYDCV2IEDYJArk749S6m\",\"1r4hJ1h58CWwUQe3MxPuau\"]  #spotify ids from Jbalvin, Bad Bunny, Ozuna, Daddy Yankee, Maluma \n",
    "NA_artists_ids=[\"246dkjvS1zLTtiykXe5h60\",\"3TVXtAsR1Inumwj472S9r4\",\"6qqNVTkY8uBg9cP3Jd7DAH\",\"06HL4z0CvFAxyc27GXpf02\",\"66CXWjxzNUsdJxJ2JdwvnR\"]  #spotify ids from Post Malone, Drake, Billie Eilish, Taylor Swift, Ariana Grande"
   ]
  },
  {
   "cell_type": "code",
   "execution_count": 12,
   "id": "80ffa7ac-ec6e-4e1f-907f-79a4a1dd99a1",
   "metadata": {
    "execution": {
     "iopub.execute_input": "2021-11-29T22:32:49.747993Z",
     "iopub.status.busy": "2021-11-29T22:32:49.747650Z",
     "iopub.status.idle": "2021-11-29T22:32:51.835837Z",
     "shell.execute_reply": "2021-11-29T22:32:51.835223Z",
     "shell.execute_reply.started": "2021-11-29T22:32:49.747964Z"
    },
    "tags": []
   },
   "outputs": [],
   "source": [
    "LA_artist_info=artist_info(LA_artists_ids)\n",
    "data_set_LA=pd.DataFrame(LA_artist_info)\n",
    "data_set_LA[\"Origin\"]=[\"Latin America\",\"Latin America\",\"Latin America\",\"Latin America\",\"Latin America\"] #Adding Origin to data set"
   ]
  },
  {
   "cell_type": "code",
   "execution_count": 13,
   "id": "e3e77450-31d7-4001-8903-c992a94b5501",
   "metadata": {
    "execution": {
     "iopub.execute_input": "2021-11-29T22:32:51.837776Z",
     "iopub.status.busy": "2021-11-29T22:32:51.837466Z",
     "iopub.status.idle": "2021-11-29T22:32:51.850712Z",
     "shell.execute_reply": "2021-11-29T22:32:51.850031Z",
     "shell.execute_reply.started": "2021-11-29T22:32:51.837758Z"
    },
    "tags": []
   },
   "outputs": [
    {
     "data": {
      "text/html": [
       "<div>\n",
       "<style scoped>\n",
       "    .dataframe tbody tr th:only-of-type {\n",
       "        vertical-align: middle;\n",
       "    }\n",
       "\n",
       "    .dataframe tbody tr th {\n",
       "        vertical-align: top;\n",
       "    }\n",
       "\n",
       "    .dataframe thead th {\n",
       "        text-align: right;\n",
       "    }\n",
       "</style>\n",
       "<table border=\"1\" class=\"dataframe\">\n",
       "  <thead>\n",
       "    <tr style=\"text-align: right;\">\n",
       "      <th></th>\n",
       "      <th>Name</th>\n",
       "      <th>Followers</th>\n",
       "      <th>Popularity</th>\n",
       "      <th>Genres</th>\n",
       "      <th>Origin</th>\n",
       "    </tr>\n",
       "  </thead>\n",
       "  <tbody>\n",
       "    <tr>\n",
       "      <th>0</th>\n",
       "      <td>J Balvin</td>\n",
       "      <td>30957580</td>\n",
       "      <td>93</td>\n",
       "      <td>[latin, reggaeton, reggaeton colombiano, trap ...</td>\n",
       "      <td>Latin America</td>\n",
       "    </tr>\n",
       "    <tr>\n",
       "      <th>1</th>\n",
       "      <td>Bad Bunny</td>\n",
       "      <td>40003664</td>\n",
       "      <td>97</td>\n",
       "      <td>[latin, reggaeton, trap latino]</td>\n",
       "      <td>Latin America</td>\n",
       "    </tr>\n",
       "    <tr>\n",
       "      <th>2</th>\n",
       "      <td>Ozuna</td>\n",
       "      <td>30330376</td>\n",
       "      <td>89</td>\n",
       "      <td>[latin, puerto rican pop, reggaeton, trap latino]</td>\n",
       "      <td>Latin America</td>\n",
       "    </tr>\n",
       "    <tr>\n",
       "      <th>3</th>\n",
       "      <td>Daddy Yankee</td>\n",
       "      <td>25017932</td>\n",
       "      <td>88</td>\n",
       "      <td>[latin, latin hip hop, reggaeton, trap latino]</td>\n",
       "      <td>Latin America</td>\n",
       "    </tr>\n",
       "    <tr>\n",
       "      <th>4</th>\n",
       "      <td>Maluma</td>\n",
       "      <td>28377680</td>\n",
       "      <td>88</td>\n",
       "      <td>[latin, reggaeton, reggaeton colombiano, trap ...</td>\n",
       "      <td>Latin America</td>\n",
       "    </tr>\n",
       "  </tbody>\n",
       "</table>\n",
       "</div>"
      ],
      "text/plain": [
       "           Name  Followers  Popularity  \\\n",
       "0      J Balvin   30957580          93   \n",
       "1     Bad Bunny   40003664          97   \n",
       "2         Ozuna   30330376          89   \n",
       "3  Daddy Yankee   25017932          88   \n",
       "4        Maluma   28377680          88   \n",
       "\n",
       "                                              Genres         Origin  \n",
       "0  [latin, reggaeton, reggaeton colombiano, trap ...  Latin America  \n",
       "1                    [latin, reggaeton, trap latino]  Latin America  \n",
       "2  [latin, puerto rican pop, reggaeton, trap latino]  Latin America  \n",
       "3     [latin, latin hip hop, reggaeton, trap latino]  Latin America  \n",
       "4  [latin, reggaeton, reggaeton colombiano, trap ...  Latin America  "
      ]
     },
     "execution_count": 13,
     "metadata": {},
     "output_type": "execute_result"
    }
   ],
   "source": [
    "data_set_LA"
   ]
  },
  {
   "cell_type": "code",
   "execution_count": 14,
   "id": "cca04fcf-db1b-4493-9ad5-72f3085fb500",
   "metadata": {
    "execution": {
     "iopub.execute_input": "2021-11-29T22:32:51.851770Z",
     "iopub.status.busy": "2021-11-29T22:32:51.851486Z",
     "iopub.status.idle": "2021-11-29T22:32:53.957349Z",
     "shell.execute_reply": "2021-11-29T22:32:53.955497Z",
     "shell.execute_reply.started": "2021-11-29T22:32:51.851754Z"
    },
    "tags": []
   },
   "outputs": [],
   "source": [
    "NA_artist_info=artist_info(NA_artists_ids)\n",
    "data_set_NA=pd.DataFrame(NA_artist_info)\n",
    "data_set_NA[\"Origin\"]=[\"North America\",\"North America\",\"North America\",\"North America\",\"North America\"] #Adding Origin to data set"
   ]
  },
  {
   "cell_type": "code",
   "execution_count": 15,
   "id": "980fdd0b-46a2-4b0e-bb36-707d191c7d37",
   "metadata": {
    "execution": {
     "iopub.execute_input": "2021-11-29T22:32:53.960465Z",
     "iopub.status.busy": "2021-11-29T22:32:53.959222Z",
     "iopub.status.idle": "2021-11-29T22:32:53.971114Z",
     "shell.execute_reply": "2021-11-29T22:32:53.970399Z",
     "shell.execute_reply.started": "2021-11-29T22:32:53.960417Z"
    },
    "tags": []
   },
   "outputs": [
    {
     "data": {
      "text/html": [
       "<div>\n",
       "<style scoped>\n",
       "    .dataframe tbody tr th:only-of-type {\n",
       "        vertical-align: middle;\n",
       "    }\n",
       "\n",
       "    .dataframe tbody tr th {\n",
       "        vertical-align: top;\n",
       "    }\n",
       "\n",
       "    .dataframe thead th {\n",
       "        text-align: right;\n",
       "    }\n",
       "</style>\n",
       "<table border=\"1\" class=\"dataframe\">\n",
       "  <thead>\n",
       "    <tr style=\"text-align: right;\">\n",
       "      <th></th>\n",
       "      <th>Name</th>\n",
       "      <th>Followers</th>\n",
       "      <th>Popularity</th>\n",
       "      <th>Genres</th>\n",
       "      <th>Origin</th>\n",
       "    </tr>\n",
       "  </thead>\n",
       "  <tbody>\n",
       "    <tr>\n",
       "      <th>0</th>\n",
       "      <td>Post Malone</td>\n",
       "      <td>34943833</td>\n",
       "      <td>91</td>\n",
       "      <td>[dfw rap, melodic rap, rap]</td>\n",
       "      <td>North America</td>\n",
       "    </tr>\n",
       "    <tr>\n",
       "      <th>1</th>\n",
       "      <td>Drake</td>\n",
       "      <td>58912968</td>\n",
       "      <td>97</td>\n",
       "      <td>[canadian hip hop, canadian pop, hip hop, rap,...</td>\n",
       "      <td>North America</td>\n",
       "    </tr>\n",
       "    <tr>\n",
       "      <th>2</th>\n",
       "      <td>Billie Eilish</td>\n",
       "      <td>52778634</td>\n",
       "      <td>92</td>\n",
       "      <td>[art pop, electropop, pop]</td>\n",
       "      <td>North America</td>\n",
       "    </tr>\n",
       "    <tr>\n",
       "      <th>3</th>\n",
       "      <td>Taylor Swift</td>\n",
       "      <td>45862065</td>\n",
       "      <td>100</td>\n",
       "      <td>[pop]</td>\n",
       "      <td>North America</td>\n",
       "    </tr>\n",
       "    <tr>\n",
       "      <th>4</th>\n",
       "      <td>Ariana Grande</td>\n",
       "      <td>72136120</td>\n",
       "      <td>93</td>\n",
       "      <td>[dance pop, pop]</td>\n",
       "      <td>North America</td>\n",
       "    </tr>\n",
       "  </tbody>\n",
       "</table>\n",
       "</div>"
      ],
      "text/plain": [
       "            Name  Followers  Popularity  \\\n",
       "0    Post Malone   34943833          91   \n",
       "1          Drake   58912968          97   \n",
       "2  Billie Eilish   52778634          92   \n",
       "3   Taylor Swift   45862065         100   \n",
       "4  Ariana Grande   72136120          93   \n",
       "\n",
       "                                              Genres         Origin  \n",
       "0                        [dfw rap, melodic rap, rap]  North America  \n",
       "1  [canadian hip hop, canadian pop, hip hop, rap,...  North America  \n",
       "2                         [art pop, electropop, pop]  North America  \n",
       "3                                              [pop]  North America  \n",
       "4                                   [dance pop, pop]  North America  "
      ]
     },
     "execution_count": 15,
     "metadata": {},
     "output_type": "execute_result"
    }
   ],
   "source": [
    "data_set_NA"
   ]
  },
  {
   "cell_type": "code",
   "execution_count": 16,
   "id": "285989e6-fba2-489e-913d-e23da7114190",
   "metadata": {
    "execution": {
     "iopub.execute_input": "2021-11-29T22:32:53.972676Z",
     "iopub.status.busy": "2021-11-29T22:32:53.972016Z",
     "iopub.status.idle": "2021-11-29T22:32:53.977561Z",
     "shell.execute_reply": "2021-11-29T22:32:53.976609Z",
     "shell.execute_reply.started": "2021-11-29T22:32:53.972650Z"
    },
    "tags": []
   },
   "outputs": [],
   "source": [
    "data_set_artists=data_set_LA+data_set_NA"
   ]
  },
  {
   "cell_type": "code",
   "execution_count": 17,
   "id": "2bd8fb24-dedf-41f2-b255-abbb8eebab9a",
   "metadata": {
    "execution": {
     "iopub.execute_input": "2021-11-29T22:32:53.978977Z",
     "iopub.status.busy": "2021-11-29T22:32:53.978421Z",
     "iopub.status.idle": "2021-11-29T22:32:53.983747Z",
     "shell.execute_reply": "2021-11-29T22:32:53.982736Z",
     "shell.execute_reply.started": "2021-11-29T22:32:53.978955Z"
    },
    "tags": []
   },
   "outputs": [],
   "source": [
    "data_set_artists=data_set_LA.append(data_set_NA)"
   ]
  },
  {
   "cell_type": "code",
   "execution_count": 18,
   "id": "ab517925-f141-45c9-a05f-786cffb85065",
   "metadata": {
    "execution": {
     "iopub.execute_input": "2021-11-29T22:32:53.984931Z",
     "iopub.status.busy": "2021-11-29T22:32:53.984756Z",
     "iopub.status.idle": "2021-11-29T22:32:53.995444Z",
     "shell.execute_reply": "2021-11-29T22:32:53.994783Z",
     "shell.execute_reply.started": "2021-11-29T22:32:53.984912Z"
    },
    "tags": []
   },
   "outputs": [
    {
     "data": {
      "text/html": [
       "<div>\n",
       "<style scoped>\n",
       "    .dataframe tbody tr th:only-of-type {\n",
       "        vertical-align: middle;\n",
       "    }\n",
       "\n",
       "    .dataframe tbody tr th {\n",
       "        vertical-align: top;\n",
       "    }\n",
       "\n",
       "    .dataframe thead th {\n",
       "        text-align: right;\n",
       "    }\n",
       "</style>\n",
       "<table border=\"1\" class=\"dataframe\">\n",
       "  <thead>\n",
       "    <tr style=\"text-align: right;\">\n",
       "      <th></th>\n",
       "      <th>Name</th>\n",
       "      <th>Followers</th>\n",
       "      <th>Popularity</th>\n",
       "      <th>Genres</th>\n",
       "      <th>Origin</th>\n",
       "    </tr>\n",
       "  </thead>\n",
       "  <tbody>\n",
       "    <tr>\n",
       "      <th>0</th>\n",
       "      <td>J Balvin</td>\n",
       "      <td>30957580</td>\n",
       "      <td>93</td>\n",
       "      <td>[latin, reggaeton, reggaeton colombiano, trap ...</td>\n",
       "      <td>Latin America</td>\n",
       "    </tr>\n",
       "    <tr>\n",
       "      <th>1</th>\n",
       "      <td>Bad Bunny</td>\n",
       "      <td>40003664</td>\n",
       "      <td>97</td>\n",
       "      <td>[latin, reggaeton, trap latino]</td>\n",
       "      <td>Latin America</td>\n",
       "    </tr>\n",
       "    <tr>\n",
       "      <th>2</th>\n",
       "      <td>Ozuna</td>\n",
       "      <td>30330376</td>\n",
       "      <td>89</td>\n",
       "      <td>[latin, puerto rican pop, reggaeton, trap latino]</td>\n",
       "      <td>Latin America</td>\n",
       "    </tr>\n",
       "    <tr>\n",
       "      <th>3</th>\n",
       "      <td>Daddy Yankee</td>\n",
       "      <td>25017932</td>\n",
       "      <td>88</td>\n",
       "      <td>[latin, latin hip hop, reggaeton, trap latino]</td>\n",
       "      <td>Latin America</td>\n",
       "    </tr>\n",
       "    <tr>\n",
       "      <th>4</th>\n",
       "      <td>Maluma</td>\n",
       "      <td>28377680</td>\n",
       "      <td>88</td>\n",
       "      <td>[latin, reggaeton, reggaeton colombiano, trap ...</td>\n",
       "      <td>Latin America</td>\n",
       "    </tr>\n",
       "    <tr>\n",
       "      <th>0</th>\n",
       "      <td>Post Malone</td>\n",
       "      <td>34943833</td>\n",
       "      <td>91</td>\n",
       "      <td>[dfw rap, melodic rap, rap]</td>\n",
       "      <td>North America</td>\n",
       "    </tr>\n",
       "    <tr>\n",
       "      <th>1</th>\n",
       "      <td>Drake</td>\n",
       "      <td>58912968</td>\n",
       "      <td>97</td>\n",
       "      <td>[canadian hip hop, canadian pop, hip hop, rap,...</td>\n",
       "      <td>North America</td>\n",
       "    </tr>\n",
       "    <tr>\n",
       "      <th>2</th>\n",
       "      <td>Billie Eilish</td>\n",
       "      <td>52778634</td>\n",
       "      <td>92</td>\n",
       "      <td>[art pop, electropop, pop]</td>\n",
       "      <td>North America</td>\n",
       "    </tr>\n",
       "    <tr>\n",
       "      <th>3</th>\n",
       "      <td>Taylor Swift</td>\n",
       "      <td>45862065</td>\n",
       "      <td>100</td>\n",
       "      <td>[pop]</td>\n",
       "      <td>North America</td>\n",
       "    </tr>\n",
       "    <tr>\n",
       "      <th>4</th>\n",
       "      <td>Ariana Grande</td>\n",
       "      <td>72136120</td>\n",
       "      <td>93</td>\n",
       "      <td>[dance pop, pop]</td>\n",
       "      <td>North America</td>\n",
       "    </tr>\n",
       "  </tbody>\n",
       "</table>\n",
       "</div>"
      ],
      "text/plain": [
       "            Name  Followers  Popularity  \\\n",
       "0       J Balvin   30957580          93   \n",
       "1      Bad Bunny   40003664          97   \n",
       "2          Ozuna   30330376          89   \n",
       "3   Daddy Yankee   25017932          88   \n",
       "4         Maluma   28377680          88   \n",
       "0    Post Malone   34943833          91   \n",
       "1          Drake   58912968          97   \n",
       "2  Billie Eilish   52778634          92   \n",
       "3   Taylor Swift   45862065         100   \n",
       "4  Ariana Grande   72136120          93   \n",
       "\n",
       "                                              Genres         Origin  \n",
       "0  [latin, reggaeton, reggaeton colombiano, trap ...  Latin America  \n",
       "1                    [latin, reggaeton, trap latino]  Latin America  \n",
       "2  [latin, puerto rican pop, reggaeton, trap latino]  Latin America  \n",
       "3     [latin, latin hip hop, reggaeton, trap latino]  Latin America  \n",
       "4  [latin, reggaeton, reggaeton colombiano, trap ...  Latin America  \n",
       "0                        [dfw rap, melodic rap, rap]  North America  \n",
       "1  [canadian hip hop, canadian pop, hip hop, rap,...  North America  \n",
       "2                         [art pop, electropop, pop]  North America  \n",
       "3                                              [pop]  North America  \n",
       "4                                   [dance pop, pop]  North America  "
      ]
     },
     "execution_count": 18,
     "metadata": {},
     "output_type": "execute_result"
    }
   ],
   "source": [
    "data_set_artists"
   ]
  },
  {
   "cell_type": "code",
   "execution_count": 26,
   "id": "272a83fd-021d-4327-9a57-4a215a35ba7b",
   "metadata": {
    "execution": {
     "iopub.execute_input": "2021-11-29T22:34:34.109993Z",
     "iopub.status.busy": "2021-11-29T22:34:34.109656Z",
     "iopub.status.idle": "2021-11-29T22:34:34.113186Z",
     "shell.execute_reply": "2021-11-29T22:34:34.112445Z",
     "shell.execute_reply.started": "2021-11-29T22:34:34.109974Z"
    },
    "tags": []
   },
   "outputs": [],
   "source": [
    "# data_set_artists.set_index(\"Name\",inplace=True)\n",
    "data_set_artists.reset_index(drop=True,inplace=True)"
   ]
  },
  {
   "cell_type": "code",
   "execution_count": 28,
   "id": "a7ea5c9f-a0b1-4d6d-ae84-84a79de7b03b",
   "metadata": {
    "execution": {
     "iopub.execute_input": "2021-11-29T22:34:39.166396Z",
     "iopub.status.busy": "2021-11-29T22:34:39.166059Z",
     "iopub.status.idle": "2021-11-29T22:34:39.170612Z",
     "shell.execute_reply": "2021-11-29T22:34:39.169892Z",
     "shell.execute_reply.started": "2021-11-29T22:34:39.166378Z"
    },
    "tags": []
   },
   "outputs": [],
   "source": [
    "## Creating Number of Generes played by Artist\n",
    "number_genres=[]\n",
    "for i in np.arange(len(data_set_artists.Name)):\n",
    "    number_genres.append(len(data_set_artists.Genres[i]))\n",
    "    \n",
    "data_set_artists[\"Number of Genres\"]=number_genres"
   ]
  },
  {
   "cell_type": "code",
   "execution_count": 29,
   "id": "f81f4a62-eb58-4363-8624-dcd7fffe70f0",
   "metadata": {
    "execution": {
     "iopub.execute_input": "2021-11-29T22:34:42.343184Z",
     "iopub.status.busy": "2021-11-29T22:34:42.342811Z",
     "iopub.status.idle": "2021-11-29T22:34:42.353317Z",
     "shell.execute_reply": "2021-11-29T22:34:42.352653Z",
     "shell.execute_reply.started": "2021-11-29T22:34:42.343163Z"
    },
    "tags": []
   },
   "outputs": [
    {
     "data": {
      "text/html": [
       "<div>\n",
       "<style scoped>\n",
       "    .dataframe tbody tr th:only-of-type {\n",
       "        vertical-align: middle;\n",
       "    }\n",
       "\n",
       "    .dataframe tbody tr th {\n",
       "        vertical-align: top;\n",
       "    }\n",
       "\n",
       "    .dataframe thead th {\n",
       "        text-align: right;\n",
       "    }\n",
       "</style>\n",
       "<table border=\"1\" class=\"dataframe\">\n",
       "  <thead>\n",
       "    <tr style=\"text-align: right;\">\n",
       "      <th></th>\n",
       "      <th>Name</th>\n",
       "      <th>Followers</th>\n",
       "      <th>Popularity</th>\n",
       "      <th>Genres</th>\n",
       "      <th>Origin</th>\n",
       "      <th>Number of Genres</th>\n",
       "    </tr>\n",
       "  </thead>\n",
       "  <tbody>\n",
       "    <tr>\n",
       "      <th>0</th>\n",
       "      <td>J Balvin</td>\n",
       "      <td>30957580</td>\n",
       "      <td>93</td>\n",
       "      <td>[latin, reggaeton, reggaeton colombiano, trap ...</td>\n",
       "      <td>Latin America</td>\n",
       "      <td>4</td>\n",
       "    </tr>\n",
       "    <tr>\n",
       "      <th>1</th>\n",
       "      <td>Bad Bunny</td>\n",
       "      <td>40003664</td>\n",
       "      <td>97</td>\n",
       "      <td>[latin, reggaeton, trap latino]</td>\n",
       "      <td>Latin America</td>\n",
       "      <td>3</td>\n",
       "    </tr>\n",
       "    <tr>\n",
       "      <th>2</th>\n",
       "      <td>Ozuna</td>\n",
       "      <td>30330376</td>\n",
       "      <td>89</td>\n",
       "      <td>[latin, puerto rican pop, reggaeton, trap latino]</td>\n",
       "      <td>Latin America</td>\n",
       "      <td>4</td>\n",
       "    </tr>\n",
       "    <tr>\n",
       "      <th>3</th>\n",
       "      <td>Daddy Yankee</td>\n",
       "      <td>25017932</td>\n",
       "      <td>88</td>\n",
       "      <td>[latin, latin hip hop, reggaeton, trap latino]</td>\n",
       "      <td>Latin America</td>\n",
       "      <td>4</td>\n",
       "    </tr>\n",
       "    <tr>\n",
       "      <th>4</th>\n",
       "      <td>Maluma</td>\n",
       "      <td>28377680</td>\n",
       "      <td>88</td>\n",
       "      <td>[latin, reggaeton, reggaeton colombiano, trap ...</td>\n",
       "      <td>Latin America</td>\n",
       "      <td>4</td>\n",
       "    </tr>\n",
       "    <tr>\n",
       "      <th>5</th>\n",
       "      <td>Post Malone</td>\n",
       "      <td>34943833</td>\n",
       "      <td>91</td>\n",
       "      <td>[dfw rap, melodic rap, rap]</td>\n",
       "      <td>North America</td>\n",
       "      <td>3</td>\n",
       "    </tr>\n",
       "    <tr>\n",
       "      <th>6</th>\n",
       "      <td>Drake</td>\n",
       "      <td>58912968</td>\n",
       "      <td>97</td>\n",
       "      <td>[canadian hip hop, canadian pop, hip hop, rap,...</td>\n",
       "      <td>North America</td>\n",
       "      <td>5</td>\n",
       "    </tr>\n",
       "    <tr>\n",
       "      <th>7</th>\n",
       "      <td>Billie Eilish</td>\n",
       "      <td>52778634</td>\n",
       "      <td>92</td>\n",
       "      <td>[art pop, electropop, pop]</td>\n",
       "      <td>North America</td>\n",
       "      <td>3</td>\n",
       "    </tr>\n",
       "    <tr>\n",
       "      <th>8</th>\n",
       "      <td>Taylor Swift</td>\n",
       "      <td>45862065</td>\n",
       "      <td>100</td>\n",
       "      <td>[pop]</td>\n",
       "      <td>North America</td>\n",
       "      <td>1</td>\n",
       "    </tr>\n",
       "    <tr>\n",
       "      <th>9</th>\n",
       "      <td>Ariana Grande</td>\n",
       "      <td>72136120</td>\n",
       "      <td>93</td>\n",
       "      <td>[dance pop, pop]</td>\n",
       "      <td>North America</td>\n",
       "      <td>2</td>\n",
       "    </tr>\n",
       "  </tbody>\n",
       "</table>\n",
       "</div>"
      ],
      "text/plain": [
       "            Name  Followers  Popularity  \\\n",
       "0       J Balvin   30957580          93   \n",
       "1      Bad Bunny   40003664          97   \n",
       "2          Ozuna   30330376          89   \n",
       "3   Daddy Yankee   25017932          88   \n",
       "4         Maluma   28377680          88   \n",
       "5    Post Malone   34943833          91   \n",
       "6          Drake   58912968          97   \n",
       "7  Billie Eilish   52778634          92   \n",
       "8   Taylor Swift   45862065         100   \n",
       "9  Ariana Grande   72136120          93   \n",
       "\n",
       "                                              Genres         Origin  \\\n",
       "0  [latin, reggaeton, reggaeton colombiano, trap ...  Latin America   \n",
       "1                    [latin, reggaeton, trap latino]  Latin America   \n",
       "2  [latin, puerto rican pop, reggaeton, trap latino]  Latin America   \n",
       "3     [latin, latin hip hop, reggaeton, trap latino]  Latin America   \n",
       "4  [latin, reggaeton, reggaeton colombiano, trap ...  Latin America   \n",
       "5                        [dfw rap, melodic rap, rap]  North America   \n",
       "6  [canadian hip hop, canadian pop, hip hop, rap,...  North America   \n",
       "7                         [art pop, electropop, pop]  North America   \n",
       "8                                              [pop]  North America   \n",
       "9                                   [dance pop, pop]  North America   \n",
       "\n",
       "   Number of Genres  \n",
       "0                 4  \n",
       "1                 3  \n",
       "2                 4  \n",
       "3                 4  \n",
       "4                 4  \n",
       "5                 3  \n",
       "6                 5  \n",
       "7                 3  \n",
       "8                 1  \n",
       "9                 2  "
      ]
     },
     "execution_count": 29,
     "metadata": {},
     "output_type": "execute_result"
    }
   ],
   "source": [
    "data_set_artists"
   ]
  },
  {
   "cell_type": "markdown",
   "id": "318484ce-d2c2-4e80-ae6b-aecbf893c41f",
   "metadata": {},
   "source": [
    "## Checking Spotify's Popularity Rating"
   ]
  },
  {
   "cell_type": "code",
   "execution_count": 265,
   "id": "0743477b-b287-4358-9cbc-a5171ce95481",
   "metadata": {
    "execution": {
     "iopub.execute_input": "2021-11-29T22:26:33.279400Z",
     "iopub.status.busy": "2021-11-29T22:26:33.279041Z",
     "iopub.status.idle": "2021-11-29T22:26:33.544261Z",
     "shell.execute_reply": "2021-11-29T22:26:33.543545Z",
     "shell.execute_reply.started": "2021-11-29T22:26:33.279381Z"
    },
    "tags": []
   },
   "outputs": [
    {
     "data": {
      "text/plain": [
       "<matplotlib.legend.Legend at 0x7f7bd19773a0>"
      ]
     },
     "execution_count": 265,
     "metadata": {},
     "output_type": "execute_result"
    },
    {
     "data": {
      "image/png": "[encoded data removed]",
      "text/plain": [
       "<Figure size 1080x576 with 1 Axes>"
      ]
     },
     "metadata": {},
     "output_type": "display_data"
    }
   ],
   "source": [
    "sns.set_theme(style=\"whitegrid\")\n",
    "\n",
    "plt.subplots(figsize=(15, 8)) \n",
    "\n",
    "data_graph=data_set_artists.sort_values(\"Popularity\",ascending=False)\n",
    "\n",
    "g=sns.barplot(\n",
    "    data=data_graph,\n",
    "    x=\"Popularity\", y=\"Name\", hue=\"Origin\", \n",
    "   palette=\"dark\",dodge=False\n",
    ")\n",
    "\n",
    "# Setting graph axis, legend and title\n",
    "g.set(xlim=(80,100))\n",
    "g.set_title(\"Spotify's Artist Popularity Rating\",fontsize=30)\n",
    "g.set_xlabel(\"Spotify's Popularity Rating\",fontsize=15)\n",
    "g.set_ylabel(\"Artists' Names\",fontsize=15)\n",
    "g.legend(title=\"Origin\",title_fontsize=15,fontsize=15)"
   ]
  },
  {
   "cell_type": "markdown",
   "id": "e896e4e8-e5de-4eff-b370-2cc552d21549",
   "metadata": {},
   "source": [
    "As shown in the graph the most popular artists comes from North America. However, there are two Latin American artists that have more than 90 popularity points which reflects that Latin American music is becoming well known worldwide. "
   ]
  },
  {
   "cell_type": "markdown",
   "id": "42457f48-11a2-4dd6-94c6-5dad407b8435",
   "metadata": {},
   "source": [
    "## Checking Artists' Followers"
   ]
  },
  {
   "cell_type": "code",
   "execution_count": 264,
   "id": "62bd50d6-d512-43ed-9109-f42454c272f3",
   "metadata": {
    "execution": {
     "iopub.execute_input": "2021-11-29T22:26:28.835556Z",
     "iopub.status.busy": "2021-11-29T22:26:28.835205Z",
     "iopub.status.idle": "2021-11-29T22:26:29.092438Z",
     "shell.execute_reply": "2021-11-29T22:26:29.091778Z",
     "shell.execute_reply.started": "2021-11-29T22:26:28.835537Z"
    },
    "tags": []
   },
   "outputs": [
    {
     "data": {
      "text/plain": [
       "<matplotlib.legend.Legend at 0x7f7bd13283a0>"
      ]
     },
     "execution_count": 264,
     "metadata": {},
     "output_type": "execute_result"
    },
    {
     "data": {
      "image/png": "[encoded data removed]",
      "text/plain": [
       "<Figure size 1080x576 with 1 Axes>"
      ]
     },
     "metadata": {},
     "output_type": "display_data"
    }
   ],
   "source": [
    "sns.set_theme(style=\"whitegrid\")\n",
    "\n",
    "plt.subplots(figsize=(15, 8)) \n",
    "\n",
    "data_graph=data_set_artists.sort_values(\"Followers\",ascending=False)\n",
    "data_graph[\"Followers\"]=data_graph[\"Followers\"]/1000000\n",
    "\n",
    "g=sns.barplot(\n",
    "    data=data_graph,\n",
    "    x=\"Followers\", y=\"Name\", hue=\"Origin\", \n",
    "   palette=\"dark\",dodge=False\n",
    ")\n",
    "\n",
    "# Setting graph axis, legend and title\n",
    "g.set(xlim=(20,75))\n",
    "g.set_title(\"Artists' Number of Followers\",fontsize=30)\n",
    "g.set_xlabel(\"Number of Followers (in millions)\",fontsize=15)\n",
    "g.set_ylabel(\"Artists' Names\",fontsize=15)\n",
    "g.legend(title=\"Origin\",title_fontsize=15,fontsize=15)"
   ]
  },
  {
   "cell_type": "markdown",
   "id": "57704d1f-1449-4a1d-9437-4895fbff09ea",
   "metadata": {},
   "source": [
    "The previous graph shows that popularity is not directly related to the number of followers. Many would think that the number of followers will dictate the level of popularity, however, Spotify's Popularity rating depends only in the popularity of the artist's tracks as stated in Spotify's developers web page (https://developer.spotify.com/documentation/web-api/reference/#/operations/get-an-artist). "
   ]
  },
  {
   "cell_type": "markdown",
   "id": "6bd23a6f-482d-4a25-9d09-fbd4632a1bdc",
   "metadata": {},
   "source": [
    "## Checking Number of Generes Played by Artists"
   ]
  },
  {
   "cell_type": "code",
   "execution_count": 49,
   "id": "8a689fe9-dbc1-4fc6-a93c-6439ca26efc4",
   "metadata": {
    "execution": {
     "iopub.execute_input": "2021-11-29T22:43:59.189150Z",
     "iopub.status.busy": "2021-11-29T22:43:59.188693Z",
     "iopub.status.idle": "2021-11-29T22:43:59.435769Z",
     "shell.execute_reply": "2021-11-29T22:43:59.435095Z",
     "shell.execute_reply.started": "2021-11-29T22:43:59.189132Z"
    },
    "tags": []
   },
   "outputs": [
    {
     "data": {
      "text/plain": [
       "<matplotlib.legend.Legend at 0x7f75c96fe6a0>"
      ]
     },
     "execution_count": 49,
     "metadata": {},
     "output_type": "execute_result"
    },
    {
     "data": {
      "image/png": "[encoded data removed]",
      "text/plain": [
       "<Figure size 1080x576 with 1 Axes>"
      ]
     },
     "metadata": {},
     "output_type": "display_data"
    }
   ],
   "source": [
    "sns.set_theme(style=\"whitegrid\")\n",
    "\n",
    "plt.subplots(figsize=(15, 8)) \n",
    "\n",
    "data_graph=data_set_artists.sort_values(\"Number of Genres\",ascending=False)\n",
    "\n",
    "g=sns.barplot(\n",
    "    data=data_graph,\n",
    "    x=\"Number of Genres\", y=\"Name\", hue=\"Origin\", \n",
    "   palette=\"dark\",dodge=False\n",
    ")\n",
    "\n",
    "# Setting graph axis, legend and title\n",
    "g.set(xlim=(0,5.5))\n",
    "g.set_title(\"Number of Played Genres by Artists\",fontsize=30)\n",
    "g.set_xlabel(\"Number of Music Genres Played\",fontsize=15)\n",
    "g.set_ylabel(\"Artists' Names\",fontsize=15)\n",
    "g.legend(title=\"Origin\",title_fontsize=15,fontsize=15)"
   ]
  },
  {
   "cell_type": "markdown",
   "id": "1a0d6fd6-892f-46d8-b23e-c611c6d12a33",
   "metadata": {},
   "source": [
    "The previous graph shows that the Latin American Artists played more genres in general. Drake shows an anomaly in the data so I will look into the genres he plays."
   ]
  },
  {
   "cell_type": "code",
   "execution_count": 66,
   "id": "644043f1-c2f5-456a-8833-2cbf22ec0087",
   "metadata": {
    "execution": {
     "iopub.execute_input": "2021-11-29T22:47:20.667626Z",
     "iopub.status.busy": "2021-11-29T22:47:20.667277Z",
     "iopub.status.idle": "2021-11-29T22:47:20.671951Z",
     "shell.execute_reply": "2021-11-29T22:47:20.671267Z",
     "shell.execute_reply.started": "2021-11-29T22:47:20.667605Z"
    },
    "tags": []
   },
   "outputs": [
    {
     "data": {
      "text/plain": [
       "['canadian hip hop', 'canadian pop', 'hip hop', 'rap', 'toronto rap']"
      ]
     },
     "execution_count": 66,
     "metadata": {},
     "output_type": "execute_result"
    }
   ],
   "source": [
    "data_graph[\"Genres\"][6]  # 6 is Drake's index"
   ]
  },
  {
   "cell_type": "markdown",
   "id": "123f3299-c715-477e-ab8d-d726a9addbfc",
   "metadata": {},
   "source": [
    "As thought, Drake has \"repetitive\" genres like \"canadian hip hop\" and \"hip hop\" or \"rap\" and \"toronto rap\". In conclusion, Latin American Artist played more genres but that does not translate in more popularity. Moreover, we conclude that for being the most popular artist is not necessary to play different genres to be exceptionally good at one like Taylor Swift. "
   ]
  },
  {
   "cell_type": "markdown",
   "id": "56b7b846-eedc-46e3-a2ab-ecbfde8db0be",
   "metadata": {},
   "source": [
    "# Conclusion"
   ]
  },
  {
   "cell_type": "markdown",
   "id": "bf797a47-095d-4db1-a56f-44c042b22e21",
   "metadata": {},
   "source": [
    "After analysing the 5 most popular singers in Latin America and North America using **Spotify's API** information I found the following conclusions:\n",
    "- Singers from North America are in general more popular than singers from Latin America.\n",
    "- Singers from Latin America are increasing propularity and almost becoming as popular as North American singers.\n",
    "- Spotify's popularity rating is only based on popularity of artists' tracks and not followers.\n",
    "- Latin American singers play more genres than North American singers. \n",
    "- Playing more genres does not impact your popularity rating in Spotify."
   ]
  }
 ],
 "metadata": {
  "kernelspec": {
   "display_name": "Python 3 (ipykernel)",
   "language": "python",
   "name": "python3"
  },
  "language_info": {
   "codemirror_mode": {
    "name": "ipython",
    "version": 3
   },
   "file_extension": ".py",
   "mimetype": "text/x-python",
   "name": "python",
   "nbconvert_exporter": "python",
   "pygments_lexer": "ipython3",
   "version": "3.8.10"
  }
 },
 "nbformat": 4,
 "nbformat_minor": 5
}
