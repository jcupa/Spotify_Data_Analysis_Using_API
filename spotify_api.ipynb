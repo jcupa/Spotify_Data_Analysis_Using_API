{
 "cells": [
  {
   "cell_type": "markdown",
   "id": "26659df0-a62d-4fd4-abf6-3dfb1cdc9f9a",
   "metadata": {},
   "source": [
    "# Obtaining Data from Spotify API"
   ]
  },
  {
   "cell_type": "markdown",
   "id": "d8dd8fe3-353d-4d12-a49e-b273df4ae30d",
   "metadata": {},
   "source": [
    "## Creating Access Token"
   ]
  },
  {
   "cell_type": "code",
   "execution_count": 244,
   "id": "eb4fe5a7-bf9f-4a05-963a-7ac114d183e1",
   "metadata": {
    "execution": {
     "iopub.execute_input": "2021-11-29T22:06:12.993537Z",
     "iopub.status.busy": "2021-11-29T22:06:12.993156Z",
     "iopub.status.idle": "2021-11-29T22:06:12.996987Z",
     "shell.execute_reply": "2021-11-29T22:06:12.996214Z",
     "shell.execute_reply.started": "2021-11-29T22:06:12.993515Z"
    },
    "tags": []
   },
   "outputs": [],
   "source": [
    "import requests\n",
    "import numpy as np\n",
    "import pandas as pd\n",
    "import seaborn as sns\n",
    "import matplotlib.pyplot as plt"
   ]
  },
  {
   "cell_type": "code",
   "execution_count": 101,
   "id": "74bad27c-19fa-4b66-afd6-950e9e126d84",
   "metadata": {
    "execution": {
     "iopub.execute_input": "2021-11-29T18:38:24.776977Z",
     "iopub.status.busy": "2021-11-29T18:38:24.776407Z",
     "iopub.status.idle": "2021-11-29T18:38:24.783960Z",
     "shell.execute_reply": "2021-11-29T18:38:24.783222Z",
     "shell.execute_reply.started": "2021-11-29T18:38:24.776953Z"
    },
    "tags": []
   },
   "outputs": [],
   "source": [
    "Client_ID=\"a935b8cf62cb47ebabdf2ba5abda22ba\"\n",
    "Client_Secret=\"4141b14831444331a3d0cec6510628cb\""
   ]
  },
  {
   "cell_type": "code",
   "execution_count": 102,
   "id": "975d4c03-8df5-4c39-9943-d72b8e009acd",
   "metadata": {
    "execution": {
     "iopub.execute_input": "2021-11-29T18:38:25.114928Z",
     "iopub.status.busy": "2021-11-29T18:38:25.114671Z",
     "iopub.status.idle": "2021-11-29T18:38:25.123042Z",
     "shell.execute_reply": "2021-11-29T18:38:25.122301Z",
     "shell.execute_reply.started": "2021-11-29T18:38:25.114910Z"
    },
    "tags": []
   },
   "outputs": [],
   "source": [
    "url_auth='https://accounts.spotify.com/api/token'"
   ]
  },
  {
   "cell_type": "code",
   "execution_count": 103,
   "id": "a8c2d060-4d34-4765-868c-3e6bd5965095",
   "metadata": {
    "execution": {
     "iopub.execute_input": "2021-11-29T18:38:25.581128Z",
     "iopub.status.busy": "2021-11-29T18:38:25.580664Z",
     "iopub.status.idle": "2021-11-29T18:38:26.243038Z",
     "shell.execute_reply": "2021-11-29T18:38:26.242308Z",
     "shell.execute_reply.started": "2021-11-29T18:38:25.581109Z"
    },
    "tags": []
   },
   "outputs": [],
   "source": [
    "#requesting token\n",
    "auth_request=requests.post(url_auth,{\n",
    "    \"grant_type\": 'client_credentials',\n",
    "    \"client_id\":Client_ID,\n",
    "    \"client_secret\":Client_Secret,\n",
    "})"
   ]
  },
  {
   "cell_type": "code",
   "execution_count": 104,
   "id": "4ba9240a-a309-4314-bbd1-95567cda7101",
   "metadata": {
    "execution": {
     "iopub.execute_input": "2021-11-29T18:38:26.244771Z",
     "iopub.status.busy": "2021-11-29T18:38:26.244477Z",
     "iopub.status.idle": "2021-11-29T18:38:26.249778Z",
     "shell.execute_reply": "2021-11-29T18:38:26.249068Z",
     "shell.execute_reply.started": "2021-11-29T18:38:26.244750Z"
    },
    "tags": []
   },
   "outputs": [],
   "source": [
    "access_token=auth_request.json()[\"access_token\"] #extracting token\n",
    "# access_token"
   ]
  },
  {
   "cell_type": "code",
   "execution_count": 105,
   "id": "8b36978d-84a8-492d-8ac6-c0eff389f5a2",
   "metadata": {
    "execution": {
     "iopub.execute_input": "2021-11-29T18:38:26.375080Z",
     "iopub.status.busy": "2021-11-29T18:38:26.374497Z",
     "iopub.status.idle": "2021-11-29T18:38:26.379269Z",
     "shell.execute_reply": "2021-11-29T18:38:26.378446Z",
     "shell.execute_reply.started": "2021-11-29T18:38:26.375056Z"
    },
    "tags": []
   },
   "outputs": [],
   "source": [
    "header={\"Authorization\":\"Bearer \"+ access_token} #generating identification header\n",
    "# header"
   ]
  },
  {
   "cell_type": "markdown",
   "id": "959f1580-13ef-47b8-b833-3825a51c5ddf",
   "metadata": {},
   "source": [
    "## Requesting Artists Information"
   ]
  },
  {
   "cell_type": "code",
   "execution_count": 106,
   "id": "f7f628c4-f193-48e1-8ccd-6bf43c996e58",
   "metadata": {
    "execution": {
     "iopub.execute_input": "2021-11-29T18:38:28.465122Z",
     "iopub.status.busy": "2021-11-29T18:38:28.464470Z",
     "iopub.status.idle": "2021-11-29T18:38:28.473055Z",
     "shell.execute_reply": "2021-11-29T18:38:28.472243Z",
     "shell.execute_reply.started": "2021-11-29T18:38:28.465074Z"
    },
    "tags": []
   },
   "outputs": [],
   "source": [
    "url_artist=\"https://api.spotify.com/v1/artists/{}\" #url to obtain artist's information"
   ]
  },
  {
   "cell_type": "code",
   "execution_count": 107,
   "id": "e5cc7d55-9804-4fd7-b58a-178079dd4559",
   "metadata": {
    "execution": {
     "iopub.execute_input": "2021-11-29T18:38:28.862340Z",
     "iopub.status.busy": "2021-11-29T18:38:28.861688Z",
     "iopub.status.idle": "2021-11-29T18:38:28.868023Z",
     "shell.execute_reply": "2021-11-29T18:38:28.867057Z",
     "shell.execute_reply.started": "2021-11-29T18:38:28.862312Z"
    },
    "tags": []
   },
   "outputs": [],
   "source": [
    "artist_ids=[\"4q3ewBCX7sLwd24euuV69X\",\"3q7HBObVc0L8jNeTe5Gofh\"] #id of artist for testing"
   ]
  },
  {
   "cell_type": "code",
   "execution_count": 108,
   "id": "9512d07b-e9d0-48f0-b59f-aa75ba15f251",
   "metadata": {
    "execution": {
     "iopub.execute_input": "2021-11-29T18:38:29.323539Z",
     "iopub.status.busy": "2021-11-29T18:38:29.323016Z",
     "iopub.status.idle": "2021-11-29T18:38:29.330149Z",
     "shell.execute_reply": "2021-11-29T18:38:29.329429Z",
     "shell.execute_reply.started": "2021-11-29T18:38:29.323520Z"
    },
    "tags": []
   },
   "outputs": [],
   "source": [
    "#creating function to request artist's informartion and save it in a dictionary\n",
    "def artist_info(artist_ids):\n",
    "    total_data=[]\n",
    "        \n",
    "    for i in artist_ids:\n",
    "        artist_data=requests.get(url_artist.format(i),headers=header)\n",
    "        artist_data=artist_data.json()    \n",
    "        data_artist={\"Name\":artist_data[\"name\"],\n",
    "                     \"Followers\":artist_data[\"followers\"][\"total\"],\n",
    "                     \"Popularity\":artist_data[\"popularity\"],\n",
    "                     \"Generes\":artist_data[\"genres\"]            \n",
    "        }\n",
    "        total_data.append(data_artist)\n",
    "    \n",
    "    return total_data\n",
    "    "
   ]
  },
  {
   "cell_type": "code",
   "execution_count": 109,
   "id": "9aba7ff5-f07c-4118-b118-b0aeb03c3435",
   "metadata": {
    "execution": {
     "iopub.execute_input": "2021-11-29T18:38:31.337171Z",
     "iopub.status.busy": "2021-11-29T18:38:31.336636Z",
     "iopub.status.idle": "2021-11-29T18:38:32.255453Z",
     "shell.execute_reply": "2021-11-29T18:38:32.254817Z",
     "shell.execute_reply.started": "2021-11-29T18:38:31.337151Z"
    },
    "tags": []
   },
   "outputs": [],
   "source": [
    "data=artist_info(artist_ids)\n",
    "# data # checking if function works properly "
   ]
  },
  {
   "cell_type": "markdown",
   "id": "4e01df3e-99b2-4a0a-85be-615193b82d01",
   "metadata": {},
   "source": [
    "## Data analysis"
   ]
  },
  {
   "cell_type": "markdown",
   "id": "7123643d-8ee0-48ab-837d-44e0bd673057",
   "metadata": {
    "execution": {
     "iopub.execute_input": "2021-11-26T16:15:08.332829Z",
     "iopub.status.busy": "2021-11-26T16:15:08.331902Z",
     "iopub.status.idle": "2021-11-26T16:15:08.336211Z",
     "shell.execute_reply": "2021-11-26T16:15:08.335525Z",
     "shell.execute_reply.started": "2021-11-26T16:15:08.332810Z"
    }
   },
   "source": [
    "### Creating The Data Set"
   ]
  },
  {
   "cell_type": "markdown",
   "id": "06f9e350-e020-4bb5-815b-41294377c0f4",
   "metadata": {},
   "source": [
    "I will compare the information of the 5 most popular artists in North America vs the 5 most popular artists in Latin America in 2021. The idea is to understand how big is the market for artists in North America compare to artist from Latin America. Also, I will look into the generes that the artists play and look if there are some similitaries upon them."
   ]
  },
  {
   "cell_type": "code",
   "execution_count": 110,
   "id": "73300b50-d522-4913-91db-3210301f681e",
   "metadata": {
    "execution": {
     "iopub.execute_input": "2021-11-29T18:38:33.197681Z",
     "iopub.status.busy": "2021-11-29T18:38:33.197279Z",
     "iopub.status.idle": "2021-11-29T18:38:33.203556Z",
     "shell.execute_reply": "2021-11-29T18:38:33.202857Z",
     "shell.execute_reply.started": "2021-11-29T18:38:33.197661Z"
    },
    "tags": []
   },
   "outputs": [],
   "source": [
    "LA_artists_ids=[\"1vyhD5VmyZ7KMfW5gqLgo5\",\"4q3ewBCX7sLwd24euuV69X\",\"1i8SpTcr7yvPOmcqrbnVXY\",\"4VMYDCV2IEDYJArk749S6m\",\"1r4hJ1h58CWwUQe3MxPuau\"]  #spotify ids from Jbalvin, Bad Bunny, Ozuna, Daddy Yankee, Maluma \n",
    "NA_artists_ids=[\"246dkjvS1zLTtiykXe5h60\",\"3TVXtAsR1Inumwj472S9r4\",\"6qqNVTkY8uBg9cP3Jd7DAH\",\"06HL4z0CvFAxyc27GXpf02\",\"66CXWjxzNUsdJxJ2JdwvnR\"]  #spotify ids from Post Malone, Drake, Billie Eilish, Taylor Swift, Ariana Grande"
   ]
  },
  {
   "cell_type": "code",
   "execution_count": 111,
   "id": "80ffa7ac-ec6e-4e1f-907f-79a4a1dd99a1",
   "metadata": {
    "execution": {
     "iopub.execute_input": "2021-11-29T18:38:33.646968Z",
     "iopub.status.busy": "2021-11-29T18:38:33.646300Z",
     "iopub.status.idle": "2021-11-29T18:38:35.803465Z",
     "shell.execute_reply": "2021-11-29T18:38:35.802548Z",
     "shell.execute_reply.started": "2021-11-29T18:38:33.646946Z"
    },
    "tags": []
   },
   "outputs": [],
   "source": [
    "LA_artist_info=artist_info(LA_artists_ids)\n",
    "data_set_LA=pd.DataFrame(LA_artist_info)\n",
    "data_set_LA[\"Origin\"]=[\"Latin America\",\"Latin America\",\"Latin America\",\"Latin America\",\"Latin America\"] #Adding Origin to data set"
   ]
  },
  {
   "cell_type": "code",
   "execution_count": 112,
   "id": "e3e77450-31d7-4001-8903-c992a94b5501",
   "metadata": {
    "execution": {
     "iopub.execute_input": "2021-11-29T18:38:35.805020Z",
     "iopub.status.busy": "2021-11-29T18:38:35.804734Z",
     "iopub.status.idle": "2021-11-29T18:38:35.821846Z",
     "shell.execute_reply": "2021-11-29T18:38:35.821100Z",
     "shell.execute_reply.started": "2021-11-29T18:38:35.804997Z"
    },
    "tags": []
   },
   "outputs": [
    {
     "data": {
      "text/html": [
       "<div>\n",
       "<style scoped>\n",
       "    .dataframe tbody tr th:only-of-type {\n",
       "        vertical-align: middle;\n",
       "    }\n",
       "\n",
       "    .dataframe tbody tr th {\n",
       "        vertical-align: top;\n",
       "    }\n",
       "\n",
       "    .dataframe thead th {\n",
       "        text-align: right;\n",
       "    }\n",
       "</style>\n",
       "<table border=\"1\" class=\"dataframe\">\n",
       "  <thead>\n",
       "    <tr style=\"text-align: right;\">\n",
       "      <th></th>\n",
       "      <th>Name</th>\n",
       "      <th>Followers</th>\n",
       "      <th>Popularity</th>\n",
       "      <th>Generes</th>\n",
       "      <th>Origin</th>\n",
       "    </tr>\n",
       "  </thead>\n",
       "  <tbody>\n",
       "    <tr>\n",
       "      <th>0</th>\n",
       "      <td>J Balvin</td>\n",
       "      <td>30957580</td>\n",
       "      <td>93</td>\n",
       "      <td>[latin, reggaeton, reggaeton colombiano, trap ...</td>\n",
       "      <td>Latin America</td>\n",
       "    </tr>\n",
       "    <tr>\n",
       "      <th>1</th>\n",
       "      <td>Bad Bunny</td>\n",
       "      <td>40003664</td>\n",
       "      <td>97</td>\n",
       "      <td>[latin, reggaeton, trap latino]</td>\n",
       "      <td>Latin America</td>\n",
       "    </tr>\n",
       "    <tr>\n",
       "      <th>2</th>\n",
       "      <td>Ozuna</td>\n",
       "      <td>30330376</td>\n",
       "      <td>89</td>\n",
       "      <td>[latin, puerto rican pop, reggaeton, trap latino]</td>\n",
       "      <td>Latin America</td>\n",
       "    </tr>\n",
       "    <tr>\n",
       "      <th>3</th>\n",
       "      <td>Daddy Yankee</td>\n",
       "      <td>25017932</td>\n",
       "      <td>88</td>\n",
       "      <td>[latin, latin hip hop, reggaeton, trap latino]</td>\n",
       "      <td>Latin America</td>\n",
       "    </tr>\n",
       "    <tr>\n",
       "      <th>4</th>\n",
       "      <td>Maluma</td>\n",
       "      <td>28377680</td>\n",
       "      <td>88</td>\n",
       "      <td>[latin, reggaeton, reggaeton colombiano, trap ...</td>\n",
       "      <td>Latin America</td>\n",
       "    </tr>\n",
       "  </tbody>\n",
       "</table>\n",
       "</div>"
      ],
      "text/plain": [
       "           Name  Followers  Popularity  \\\n",
       "0      J Balvin   30957580          93   \n",
       "1     Bad Bunny   40003664          97   \n",
       "2         Ozuna   30330376          89   \n",
       "3  Daddy Yankee   25017932          88   \n",
       "4        Maluma   28377680          88   \n",
       "\n",
       "                                             Generes         Origin  \n",
       "0  [latin, reggaeton, reggaeton colombiano, trap ...  Latin America  \n",
       "1                    [latin, reggaeton, trap latino]  Latin America  \n",
       "2  [latin, puerto rican pop, reggaeton, trap latino]  Latin America  \n",
       "3     [latin, latin hip hop, reggaeton, trap latino]  Latin America  \n",
       "4  [latin, reggaeton, reggaeton colombiano, trap ...  Latin America  "
      ]
     },
     "execution_count": 112,
     "metadata": {},
     "output_type": "execute_result"
    }
   ],
   "source": [
    "data_set_LA"
   ]
  },
  {
   "cell_type": "code",
   "execution_count": 113,
   "id": "cca04fcf-db1b-4493-9ad5-72f3085fb500",
   "metadata": {
    "execution": {
     "iopub.execute_input": "2021-11-29T18:38:35.983577Z",
     "iopub.status.busy": "2021-11-29T18:38:35.983141Z",
     "iopub.status.idle": "2021-11-29T18:38:38.049433Z",
     "shell.execute_reply": "2021-11-29T18:38:38.048804Z",
     "shell.execute_reply.started": "2021-11-29T18:38:35.983559Z"
    },
    "tags": []
   },
   "outputs": [],
   "source": [
    "NA_artist_info=artist_info(NA_artists_ids)\n",
    "data_set_NA=pd.DataFrame(NA_artist_info)\n",
    "data_set_NA[\"Origin\"]=[\"North America\",\"North America\",\"North America\",\"North America\",\"North America\"] #Adding Origin to data set"
   ]
  },
  {
   "cell_type": "code",
   "execution_count": 160,
   "id": "980fdd0b-46a2-4b0e-bb36-707d191c7d37",
   "metadata": {
    "execution": {
     "iopub.execute_input": "2021-11-26T16:39:40.373497Z",
     "iopub.status.busy": "2021-11-26T16:39:40.372849Z",
     "iopub.status.idle": "2021-11-26T16:39:40.381480Z",
     "shell.execute_reply": "2021-11-26T16:39:40.380716Z",
     "shell.execute_reply.started": "2021-11-26T16:39:40.373464Z"
    }
   },
   "outputs": [
    {
     "data": {
      "text/html": [
       "<div>\n",
       "<style scoped>\n",
       "    .dataframe tbody tr th:only-of-type {\n",
       "        vertical-align: middle;\n",
       "    }\n",
       "\n",
       "    .dataframe tbody tr th {\n",
       "        vertical-align: top;\n",
       "    }\n",
       "\n",
       "    .dataframe thead th {\n",
       "        text-align: right;\n",
       "    }\n",
       "</style>\n",
       "<table border=\"1\" class=\"dataframe\">\n",
       "  <thead>\n",
       "    <tr style=\"text-align: right;\">\n",
       "      <th></th>\n",
       "      <th>Name</th>\n",
       "      <th>Followers</th>\n",
       "      <th>Popularity</th>\n",
       "      <th>Generes</th>\n",
       "      <th>Origin</th>\n",
       "    </tr>\n",
       "  </thead>\n",
       "  <tbody>\n",
       "    <tr>\n",
       "      <th>0</th>\n",
       "      <td>Post Malone</td>\n",
       "      <td>34911936</td>\n",
       "      <td>91</td>\n",
       "      <td>[dfw rap, melodic rap, rap]</td>\n",
       "      <td>North America</td>\n",
       "    </tr>\n",
       "    <tr>\n",
       "      <th>1</th>\n",
       "      <td>Drake</td>\n",
       "      <td>58841499</td>\n",
       "      <td>97</td>\n",
       "      <td>[canadian hip hop, canadian pop, hip hop, rap,...</td>\n",
       "      <td>North America</td>\n",
       "    </tr>\n",
       "    <tr>\n",
       "      <th>2</th>\n",
       "      <td>Billie Eilish</td>\n",
       "      <td>52594858</td>\n",
       "      <td>92</td>\n",
       "      <td>[art pop, electropop, pop]</td>\n",
       "      <td>North America</td>\n",
       "    </tr>\n",
       "    <tr>\n",
       "      <th>3</th>\n",
       "      <td>Taylor Swift</td>\n",
       "      <td>45735995</td>\n",
       "      <td>100</td>\n",
       "      <td>[pop]</td>\n",
       "      <td>North America</td>\n",
       "    </tr>\n",
       "    <tr>\n",
       "      <th>4</th>\n",
       "      <td>Ariana Grande</td>\n",
       "      <td>72004290</td>\n",
       "      <td>92</td>\n",
       "      <td>[dance pop, pop]</td>\n",
       "      <td>North America</td>\n",
       "    </tr>\n",
       "  </tbody>\n",
       "</table>\n",
       "</div>"
      ],
      "text/plain": [
       "            Name  Followers  Popularity  \\\n",
       "0    Post Malone   34911936          91   \n",
       "1          Drake   58841499          97   \n",
       "2  Billie Eilish   52594858          92   \n",
       "3   Taylor Swift   45735995         100   \n",
       "4  Ariana Grande   72004290          92   \n",
       "\n",
       "                                             Generes         Origin  \n",
       "0                        [dfw rap, melodic rap, rap]  North America  \n",
       "1  [canadian hip hop, canadian pop, hip hop, rap,...  North America  \n",
       "2                         [art pop, electropop, pop]  North America  \n",
       "3                                              [pop]  North America  \n",
       "4                                   [dance pop, pop]  North America  "
      ]
     },
     "execution_count": 160,
     "metadata": {},
     "output_type": "execute_result"
    }
   ],
   "source": [
    "data_set_NA"
   ]
  },
  {
   "cell_type": "code",
   "execution_count": 114,
   "id": "285989e6-fba2-489e-913d-e23da7114190",
   "metadata": {
    "execution": {
     "iopub.execute_input": "2021-11-29T18:38:39.397897Z",
     "iopub.status.busy": "2021-11-29T18:38:39.397176Z",
     "iopub.status.idle": "2021-11-29T18:38:39.406660Z",
     "shell.execute_reply": "2021-11-29T18:38:39.405811Z",
     "shell.execute_reply.started": "2021-11-29T18:38:39.397867Z"
    },
    "tags": []
   },
   "outputs": [],
   "source": [
    "data_set_artists=data_set_LA+data_set_NA"
   ]
  },
  {
   "cell_type": "code",
   "execution_count": 133,
   "id": "2bd8fb24-dedf-41f2-b255-abbb8eebab9a",
   "metadata": {
    "execution": {
     "iopub.execute_input": "2021-11-29T18:58:12.183124Z",
     "iopub.status.busy": "2021-11-29T18:58:12.182573Z",
     "iopub.status.idle": "2021-11-29T18:58:12.187376Z",
     "shell.execute_reply": "2021-11-29T18:58:12.186602Z",
     "shell.execute_reply.started": "2021-11-29T18:58:12.183101Z"
    },
    "tags": []
   },
   "outputs": [],
   "source": [
    "data_set_artists=data_set_LA.append(data_set_NA)"
   ]
  },
  {
   "cell_type": "code",
   "execution_count": 134,
   "id": "ab517925-f141-45c9-a05f-786cffb85065",
   "metadata": {
    "execution": {
     "iopub.execute_input": "2021-11-29T18:58:13.222949Z",
     "iopub.status.busy": "2021-11-29T18:58:13.222389Z",
     "iopub.status.idle": "2021-11-29T18:58:13.231892Z",
     "shell.execute_reply": "2021-11-29T18:58:13.231244Z",
     "shell.execute_reply.started": "2021-11-29T18:58:13.222926Z"
    },
    "tags": []
   },
   "outputs": [
    {
     "data": {
      "text/html": [
       "<div>\n",
       "<style scoped>\n",
       "    .dataframe tbody tr th:only-of-type {\n",
       "        vertical-align: middle;\n",
       "    }\n",
       "\n",
       "    .dataframe tbody tr th {\n",
       "        vertical-align: top;\n",
       "    }\n",
       "\n",
       "    .dataframe thead th {\n",
       "        text-align: right;\n",
       "    }\n",
       "</style>\n",
       "<table border=\"1\" class=\"dataframe\">\n",
       "  <thead>\n",
       "    <tr style=\"text-align: right;\">\n",
       "      <th></th>\n",
       "      <th>Name</th>\n",
       "      <th>Followers</th>\n",
       "      <th>Popularity</th>\n",
       "      <th>Generes</th>\n",
       "      <th>Origin</th>\n",
       "    </tr>\n",
       "  </thead>\n",
       "  <tbody>\n",
       "    <tr>\n",
       "      <th>0</th>\n",
       "      <td>J Balvin</td>\n",
       "      <td>30957580</td>\n",
       "      <td>93</td>\n",
       "      <td>[latin, reggaeton, reggaeton colombiano, trap ...</td>\n",
       "      <td>Latin America</td>\n",
       "    </tr>\n",
       "    <tr>\n",
       "      <th>1</th>\n",
       "      <td>Bad Bunny</td>\n",
       "      <td>40003664</td>\n",
       "      <td>97</td>\n",
       "      <td>[latin, reggaeton, trap latino]</td>\n",
       "      <td>Latin America</td>\n",
       "    </tr>\n",
       "    <tr>\n",
       "      <th>2</th>\n",
       "      <td>Ozuna</td>\n",
       "      <td>30330376</td>\n",
       "      <td>89</td>\n",
       "      <td>[latin, puerto rican pop, reggaeton, trap latino]</td>\n",
       "      <td>Latin America</td>\n",
       "    </tr>\n",
       "    <tr>\n",
       "      <th>3</th>\n",
       "      <td>Daddy Yankee</td>\n",
       "      <td>25017932</td>\n",
       "      <td>88</td>\n",
       "      <td>[latin, latin hip hop, reggaeton, trap latino]</td>\n",
       "      <td>Latin America</td>\n",
       "    </tr>\n",
       "    <tr>\n",
       "      <th>4</th>\n",
       "      <td>Maluma</td>\n",
       "      <td>28377680</td>\n",
       "      <td>88</td>\n",
       "      <td>[latin, reggaeton, reggaeton colombiano, trap ...</td>\n",
       "      <td>Latin America</td>\n",
       "    </tr>\n",
       "    <tr>\n",
       "      <th>0</th>\n",
       "      <td>Post Malone</td>\n",
       "      <td>34943833</td>\n",
       "      <td>91</td>\n",
       "      <td>[dfw rap, melodic rap, rap]</td>\n",
       "      <td>North America</td>\n",
       "    </tr>\n",
       "    <tr>\n",
       "      <th>1</th>\n",
       "      <td>Drake</td>\n",
       "      <td>58912968</td>\n",
       "      <td>97</td>\n",
       "      <td>[canadian hip hop, canadian pop, hip hop, rap,...</td>\n",
       "      <td>North America</td>\n",
       "    </tr>\n",
       "    <tr>\n",
       "      <th>2</th>\n",
       "      <td>Billie Eilish</td>\n",
       "      <td>52778634</td>\n",
       "      <td>92</td>\n",
       "      <td>[art pop, electropop, pop]</td>\n",
       "      <td>North America</td>\n",
       "    </tr>\n",
       "    <tr>\n",
       "      <th>3</th>\n",
       "      <td>Taylor Swift</td>\n",
       "      <td>45862065</td>\n",
       "      <td>100</td>\n",
       "      <td>[pop]</td>\n",
       "      <td>North America</td>\n",
       "    </tr>\n",
       "    <tr>\n",
       "      <th>4</th>\n",
       "      <td>Ariana Grande</td>\n",
       "      <td>72136120</td>\n",
       "      <td>93</td>\n",
       "      <td>[dance pop, pop]</td>\n",
       "      <td>North America</td>\n",
       "    </tr>\n",
       "  </tbody>\n",
       "</table>\n",
       "</div>"
      ],
      "text/plain": [
       "            Name  Followers  Popularity  \\\n",
       "0       J Balvin   30957580          93   \n",
       "1      Bad Bunny   40003664          97   \n",
       "2          Ozuna   30330376          89   \n",
       "3   Daddy Yankee   25017932          88   \n",
       "4         Maluma   28377680          88   \n",
       "0    Post Malone   34943833          91   \n",
       "1          Drake   58912968          97   \n",
       "2  Billie Eilish   52778634          92   \n",
       "3   Taylor Swift   45862065         100   \n",
       "4  Ariana Grande   72136120          93   \n",
       "\n",
       "                                             Generes         Origin  \n",
       "0  [latin, reggaeton, reggaeton colombiano, trap ...  Latin America  \n",
       "1                    [latin, reggaeton, trap latino]  Latin America  \n",
       "2  [latin, puerto rican pop, reggaeton, trap latino]  Latin America  \n",
       "3     [latin, latin hip hop, reggaeton, trap latino]  Latin America  \n",
       "4  [latin, reggaeton, reggaeton colombiano, trap ...  Latin America  \n",
       "0                        [dfw rap, melodic rap, rap]  North America  \n",
       "1  [canadian hip hop, canadian pop, hip hop, rap,...  North America  \n",
       "2                         [art pop, electropop, pop]  North America  \n",
       "3                                              [pop]  North America  \n",
       "4                                   [dance pop, pop]  North America  "
      ]
     },
     "execution_count": 134,
     "metadata": {},
     "output_type": "execute_result"
    }
   ],
   "source": [
    "data_set_artists"
   ]
  },
  {
   "cell_type": "code",
   "execution_count": 240,
   "id": "7d613dfa-3655-4e1f-bbf6-474919506284",
   "metadata": {
    "execution": {
     "iopub.execute_input": "2021-11-29T22:04:37.045553Z",
     "iopub.status.busy": "2021-11-29T22:04:37.045202Z",
     "iopub.status.idle": "2021-11-29T22:04:37.052178Z",
     "shell.execute_reply": "2021-11-29T22:04:37.051437Z",
     "shell.execute_reply.started": "2021-11-29T22:04:37.045533Z"
    }
   },
   "outputs": [
    {
     "data": {
      "text/plain": [
       "'J Balvin'"
      ]
     },
     "execution_count": 240,
     "metadata": {},
     "output_type": "execute_result"
    }
   ],
   "source": [
    "data_set_artists.Name[0]"
   ]
  },
  {
   "cell_type": "code",
   "execution_count": 246,
   "id": "b32b259d-4a5a-4748-89a3-de45cf21c515",
   "metadata": {
    "execution": {
     "iopub.execute_input": "2021-11-29T22:06:23.285654Z",
     "iopub.status.busy": "2021-11-29T22:06:23.285518Z",
     "iopub.status.idle": "2021-11-29T22:06:23.290502Z",
     "shell.execute_reply": "2021-11-29T22:06:23.289742Z",
     "shell.execute_reply.started": "2021-11-29T22:06:23.285638Z"
    },
    "tags": []
   },
   "outputs": [
    {
     "data": {
      "text/plain": [
       "array([0, 1, 2, 3, 4, 5, 6, 7, 8, 9])"
      ]
     },
     "execution_count": 246,
     "metadata": {},
     "output_type": "execute_result"
    }
   ],
   "source": [
    "np.arange(len(data_set_artists.Name))"
   ]
  },
  {
   "cell_type": "code",
   "execution_count": null,
   "id": "3e3ac34a-ca02-4278-ab4f-65dcdd363cfa",
   "metadata": {},
   "outputs": [],
   "source": [
    "data_set_artists.Generes[0]"
   ]
  },
  {
   "cell_type": "code",
   "execution_count": 253,
   "id": "7cb09c23-2fda-4ddb-87de-8be588ac32cc",
   "metadata": {
    "execution": {
     "iopub.execute_input": "2021-11-29T22:07:25.680590Z",
     "iopub.status.busy": "2021-11-29T22:07:25.680238Z",
     "iopub.status.idle": "2021-11-29T22:07:25.684966Z",
     "shell.execute_reply": "2021-11-29T22:07:25.684223Z",
     "shell.execute_reply.started": "2021-11-29T22:07:25.680570Z"
    },
    "tags": []
   },
   "outputs": [
    {
     "data": {
      "text/plain": [
       "4"
      ]
     },
     "execution_count": 253,
     "metadata": {},
     "output_type": "execute_result"
    }
   ],
   "source": [
    "len(data_set_artists.Generes[0])"
   ]
  },
  {
   "cell_type": "code",
   "execution_count": 255,
   "id": "b23cf48d-eb35-4a6c-8ff4-ae1d9933255c",
   "metadata": {
    "execution": {
     "iopub.execute_input": "2021-11-29T22:10:11.551915Z",
     "iopub.status.busy": "2021-11-29T22:10:11.551400Z",
     "iopub.status.idle": "2021-11-29T22:10:11.561796Z",
     "shell.execute_reply": "2021-11-29T22:10:11.561093Z",
     "shell.execute_reply.started": "2021-11-29T22:10:11.551886Z"
    }
   },
   "outputs": [
    {
     "data": {
      "text/html": [
       "<div>\n",
       "<style scoped>\n",
       "    .dataframe tbody tr th:only-of-type {\n",
       "        vertical-align: middle;\n",
       "    }\n",
       "\n",
       "    .dataframe tbody tr th {\n",
       "        vertical-align: top;\n",
       "    }\n",
       "\n",
       "    .dataframe thead th {\n",
       "        text-align: right;\n",
       "    }\n",
       "</style>\n",
       "<table border=\"1\" class=\"dataframe\">\n",
       "  <thead>\n",
       "    <tr style=\"text-align: right;\">\n",
       "      <th></th>\n",
       "      <th>Name</th>\n",
       "      <th>Followers</th>\n",
       "      <th>Popularity</th>\n",
       "      <th>Generes</th>\n",
       "      <th>Origin</th>\n",
       "    </tr>\n",
       "  </thead>\n",
       "  <tbody>\n",
       "    <tr>\n",
       "      <th>0</th>\n",
       "      <td>J Balvin</td>\n",
       "      <td>30957580</td>\n",
       "      <td>93</td>\n",
       "      <td>[latin, reggaeton, reggaeton colombiano, trap ...</td>\n",
       "      <td>Latin America</td>\n",
       "    </tr>\n",
       "    <tr>\n",
       "      <th>1</th>\n",
       "      <td>Bad Bunny</td>\n",
       "      <td>40003664</td>\n",
       "      <td>97</td>\n",
       "      <td>[latin, reggaeton, trap latino]</td>\n",
       "      <td>Latin America</td>\n",
       "    </tr>\n",
       "    <tr>\n",
       "      <th>2</th>\n",
       "      <td>Ozuna</td>\n",
       "      <td>30330376</td>\n",
       "      <td>89</td>\n",
       "      <td>[latin, puerto rican pop, reggaeton, trap latino]</td>\n",
       "      <td>Latin America</td>\n",
       "    </tr>\n",
       "    <tr>\n",
       "      <th>3</th>\n",
       "      <td>Daddy Yankee</td>\n",
       "      <td>25017932</td>\n",
       "      <td>88</td>\n",
       "      <td>[latin, latin hip hop, reggaeton, trap latino]</td>\n",
       "      <td>Latin America</td>\n",
       "    </tr>\n",
       "    <tr>\n",
       "      <th>4</th>\n",
       "      <td>Maluma</td>\n",
       "      <td>28377680</td>\n",
       "      <td>88</td>\n",
       "      <td>[latin, reggaeton, reggaeton colombiano, trap ...</td>\n",
       "      <td>Latin America</td>\n",
       "    </tr>\n",
       "    <tr>\n",
       "      <th>5</th>\n",
       "      <td>Post Malone</td>\n",
       "      <td>34943833</td>\n",
       "      <td>91</td>\n",
       "      <td>[dfw rap, melodic rap, rap]</td>\n",
       "      <td>North America</td>\n",
       "    </tr>\n",
       "    <tr>\n",
       "      <th>6</th>\n",
       "      <td>Drake</td>\n",
       "      <td>58912968</td>\n",
       "      <td>97</td>\n",
       "      <td>[canadian hip hop, canadian pop, hip hop, rap,...</td>\n",
       "      <td>North America</td>\n",
       "    </tr>\n",
       "    <tr>\n",
       "      <th>7</th>\n",
       "      <td>Billie Eilish</td>\n",
       "      <td>52778634</td>\n",
       "      <td>92</td>\n",
       "      <td>[art pop, electropop, pop]</td>\n",
       "      <td>North America</td>\n",
       "    </tr>\n",
       "    <tr>\n",
       "      <th>8</th>\n",
       "      <td>Taylor Swift</td>\n",
       "      <td>45862065</td>\n",
       "      <td>100</td>\n",
       "      <td>[pop]</td>\n",
       "      <td>North America</td>\n",
       "    </tr>\n",
       "    <tr>\n",
       "      <th>9</th>\n",
       "      <td>Ariana Grande</td>\n",
       "      <td>72136120</td>\n",
       "      <td>93</td>\n",
       "      <td>[dance pop, pop]</td>\n",
       "      <td>North America</td>\n",
       "    </tr>\n",
       "  </tbody>\n",
       "</table>\n",
       "</div>"
      ],
      "text/plain": [
       "            Name  Followers  Popularity  \\\n",
       "0       J Balvin   30957580          93   \n",
       "1      Bad Bunny   40003664          97   \n",
       "2          Ozuna   30330376          89   \n",
       "3   Daddy Yankee   25017932          88   \n",
       "4         Maluma   28377680          88   \n",
       "5    Post Malone   34943833          91   \n",
       "6          Drake   58912968          97   \n",
       "7  Billie Eilish   52778634          92   \n",
       "8   Taylor Swift   45862065         100   \n",
       "9  Ariana Grande   72136120          93   \n",
       "\n",
       "                                             Generes         Origin  \n",
       "0  [latin, reggaeton, reggaeton colombiano, trap ...  Latin America  \n",
       "1                    [latin, reggaeton, trap latino]  Latin America  \n",
       "2  [latin, puerto rican pop, reggaeton, trap latino]  Latin America  \n",
       "3     [latin, latin hip hop, reggaeton, trap latino]  Latin America  \n",
       "4  [latin, reggaeton, reggaeton colombiano, trap ...  Latin America  \n",
       "5                        [dfw rap, melodic rap, rap]  North America  \n",
       "6  [canadian hip hop, canadian pop, hip hop, rap,...  North America  \n",
       "7                         [art pop, electropop, pop]  North America  \n",
       "8                                              [pop]  North America  \n",
       "9                                   [dance pop, pop]  North America  "
      ]
     },
     "execution_count": 255,
     "metadata": {},
     "output_type": "execute_result"
    }
   ],
   "source": [
    "data_set_artists"
   ]
  },
  {
   "cell_type": "code",
   "execution_count": 256,
   "id": "a7ea5c9f-a0b1-4d6d-ae84-84a79de7b03b",
   "metadata": {
    "execution": {
     "iopub.execute_input": "2021-11-29T22:12:56.781966Z",
     "iopub.status.busy": "2021-11-29T22:12:56.781547Z",
     "iopub.status.idle": "2021-11-29T22:12:56.786714Z",
     "shell.execute_reply": "2021-11-29T22:12:56.785956Z",
     "shell.execute_reply.started": "2021-11-29T22:12:56.781945Z"
    },
    "tags": []
   },
   "outputs": [],
   "source": [
    "## Creating Number of Generes played by Artist\n",
    "number_generes=[]\n",
    "for i in np.arange(len(data_set_artists.Name)):\n",
    "    number_generes.append(len(data_set_artists.Generes[i]))\n",
    "    \n",
    "data_set_artists[\"Number of Generes\"]=number_generes"
   ]
  },
  {
   "cell_type": "code",
   "execution_count": 258,
   "id": "272a83fd-021d-4327-9a57-4a215a35ba7b",
   "metadata": {
    "execution": {
     "iopub.execute_input": "2021-11-29T22:13:19.766169Z",
     "iopub.status.busy": "2021-11-29T22:13:19.765779Z",
     "iopub.status.idle": "2021-11-29T22:13:19.769716Z",
     "shell.execute_reply": "2021-11-29T22:13:19.768981Z",
     "shell.execute_reply.started": "2021-11-29T22:13:19.766149Z"
    }
   },
   "outputs": [],
   "source": [
    "# data_set_artists.set_index(\"Name\",inplace=True)\n",
    "data_set_artists.reset_index(drop=True,inplace=True)"
   ]
  },
  {
   "cell_type": "code",
   "execution_count": 259,
   "id": "f81f4a62-eb58-4363-8624-dcd7fffe70f0",
   "metadata": {
    "execution": {
     "iopub.execute_input": "2021-11-29T22:13:20.414048Z",
     "iopub.status.busy": "2021-11-29T22:13:20.413647Z",
     "iopub.status.idle": "2021-11-29T22:13:20.423626Z",
     "shell.execute_reply": "2021-11-29T22:13:20.422890Z",
     "shell.execute_reply.started": "2021-11-29T22:13:20.414028Z"
    },
    "tags": []
   },
   "outputs": [
    {
     "data": {
      "text/html": [
       "<div>\n",
       "<style scoped>\n",
       "    .dataframe tbody tr th:only-of-type {\n",
       "        vertical-align: middle;\n",
       "    }\n",
       "\n",
       "    .dataframe tbody tr th {\n",
       "        vertical-align: top;\n",
       "    }\n",
       "\n",
       "    .dataframe thead th {\n",
       "        text-align: right;\n",
       "    }\n",
       "</style>\n",
       "<table border=\"1\" class=\"dataframe\">\n",
       "  <thead>\n",
       "    <tr style=\"text-align: right;\">\n",
       "      <th></th>\n",
       "      <th>Name</th>\n",
       "      <th>Followers</th>\n",
       "      <th>Popularity</th>\n",
       "      <th>Generes</th>\n",
       "      <th>Origin</th>\n",
       "      <th>Number of Generes</th>\n",
       "    </tr>\n",
       "  </thead>\n",
       "  <tbody>\n",
       "    <tr>\n",
       "      <th>0</th>\n",
       "      <td>J Balvin</td>\n",
       "      <td>30957580</td>\n",
       "      <td>93</td>\n",
       "      <td>[latin, reggaeton, reggaeton colombiano, trap ...</td>\n",
       "      <td>Latin America</td>\n",
       "      <td>4</td>\n",
       "    </tr>\n",
       "    <tr>\n",
       "      <th>1</th>\n",
       "      <td>Bad Bunny</td>\n",
       "      <td>40003664</td>\n",
       "      <td>97</td>\n",
       "      <td>[latin, reggaeton, trap latino]</td>\n",
       "      <td>Latin America</td>\n",
       "      <td>3</td>\n",
       "    </tr>\n",
       "    <tr>\n",
       "      <th>2</th>\n",
       "      <td>Ozuna</td>\n",
       "      <td>30330376</td>\n",
       "      <td>89</td>\n",
       "      <td>[latin, puerto rican pop, reggaeton, trap latino]</td>\n",
       "      <td>Latin America</td>\n",
       "      <td>4</td>\n",
       "    </tr>\n",
       "    <tr>\n",
       "      <th>3</th>\n",
       "      <td>Daddy Yankee</td>\n",
       "      <td>25017932</td>\n",
       "      <td>88</td>\n",
       "      <td>[latin, latin hip hop, reggaeton, trap latino]</td>\n",
       "      <td>Latin America</td>\n",
       "      <td>4</td>\n",
       "    </tr>\n",
       "    <tr>\n",
       "      <th>4</th>\n",
       "      <td>Maluma</td>\n",
       "      <td>28377680</td>\n",
       "      <td>88</td>\n",
       "      <td>[latin, reggaeton, reggaeton colombiano, trap ...</td>\n",
       "      <td>Latin America</td>\n",
       "      <td>4</td>\n",
       "    </tr>\n",
       "    <tr>\n",
       "      <th>5</th>\n",
       "      <td>Post Malone</td>\n",
       "      <td>34943833</td>\n",
       "      <td>91</td>\n",
       "      <td>[dfw rap, melodic rap, rap]</td>\n",
       "      <td>North America</td>\n",
       "      <td>3</td>\n",
       "    </tr>\n",
       "    <tr>\n",
       "      <th>6</th>\n",
       "      <td>Drake</td>\n",
       "      <td>58912968</td>\n",
       "      <td>97</td>\n",
       "      <td>[canadian hip hop, canadian pop, hip hop, rap,...</td>\n",
       "      <td>North America</td>\n",
       "      <td>5</td>\n",
       "    </tr>\n",
       "    <tr>\n",
       "      <th>7</th>\n",
       "      <td>Billie Eilish</td>\n",
       "      <td>52778634</td>\n",
       "      <td>92</td>\n",
       "      <td>[art pop, electropop, pop]</td>\n",
       "      <td>North America</td>\n",
       "      <td>3</td>\n",
       "    </tr>\n",
       "    <tr>\n",
       "      <th>8</th>\n",
       "      <td>Taylor Swift</td>\n",
       "      <td>45862065</td>\n",
       "      <td>100</td>\n",
       "      <td>[pop]</td>\n",
       "      <td>North America</td>\n",
       "      <td>1</td>\n",
       "    </tr>\n",
       "    <tr>\n",
       "      <th>9</th>\n",
       "      <td>Ariana Grande</td>\n",
       "      <td>72136120</td>\n",
       "      <td>93</td>\n",
       "      <td>[dance pop, pop]</td>\n",
       "      <td>North America</td>\n",
       "      <td>2</td>\n",
       "    </tr>\n",
       "  </tbody>\n",
       "</table>\n",
       "</div>"
      ],
      "text/plain": [
       "            Name  Followers  Popularity  \\\n",
       "0       J Balvin   30957580          93   \n",
       "1      Bad Bunny   40003664          97   \n",
       "2          Ozuna   30330376          89   \n",
       "3   Daddy Yankee   25017932          88   \n",
       "4         Maluma   28377680          88   \n",
       "5    Post Malone   34943833          91   \n",
       "6          Drake   58912968          97   \n",
       "7  Billie Eilish   52778634          92   \n",
       "8   Taylor Swift   45862065         100   \n",
       "9  Ariana Grande   72136120          93   \n",
       "\n",
       "                                             Generes         Origin  \\\n",
       "0  [latin, reggaeton, reggaeton colombiano, trap ...  Latin America   \n",
       "1                    [latin, reggaeton, trap latino]  Latin America   \n",
       "2  [latin, puerto rican pop, reggaeton, trap latino]  Latin America   \n",
       "3     [latin, latin hip hop, reggaeton, trap latino]  Latin America   \n",
       "4  [latin, reggaeton, reggaeton colombiano, trap ...  Latin America   \n",
       "5                        [dfw rap, melodic rap, rap]  North America   \n",
       "6  [canadian hip hop, canadian pop, hip hop, rap,...  North America   \n",
       "7                         [art pop, electropop, pop]  North America   \n",
       "8                                              [pop]  North America   \n",
       "9                                   [dance pop, pop]  North America   \n",
       "\n",
       "   Number of Generes  \n",
       "0                  4  \n",
       "1                  3  \n",
       "2                  4  \n",
       "3                  4  \n",
       "4                  4  \n",
       "5                  3  \n",
       "6                  5  \n",
       "7                  3  \n",
       "8                  1  \n",
       "9                  2  "
      ]
     },
     "execution_count": 259,
     "metadata": {},
     "output_type": "execute_result"
    }
   ],
   "source": [
    "data_set_artists"
   ]
  },
  {
   "cell_type": "markdown",
   "id": "318484ce-d2c2-4e80-ae6b-aecbf893c41f",
   "metadata": {},
   "source": [
    "## Checking Spotify's Popularity Rating"
   ]
  },
  {
   "cell_type": "code",
   "execution_count": 211,
   "id": "0743477b-b287-4358-9cbc-a5171ce95481",
   "metadata": {
    "execution": {
     "iopub.execute_input": "2021-11-29T21:35:08.376447Z",
     "iopub.status.busy": "2021-11-29T21:35:08.375995Z",
     "iopub.status.idle": "2021-11-29T21:35:08.655245Z",
     "shell.execute_reply": "2021-11-29T21:35:08.654588Z",
     "shell.execute_reply.started": "2021-11-29T21:35:08.376422Z"
    },
    "tags": []
   },
   "outputs": [
    {
     "data": {
      "text/plain": [
       "<matplotlib.legend.Legend at 0x7f7bd2967160>"
      ]
     },
     "execution_count": 211,
     "metadata": {},
     "output_type": "execute_result"
    },
    {
     "data": {
      "image/png": "[encoded data removed]",
      "text/plain": [
       "<Figure size 1080x576 with 1 Axes>"
      ]
     },
     "metadata": {},
     "output_type": "display_data"
    }
   ],
   "source": [
    "sns.set_theme(style=\"whitegrid\")\n",
    "\n",
    "plt.subplots(figsize=(15, 8)) \n",
    "\n",
    "data_graph=data_set_artists.sort_values(\"Popularity\",ascending=False)\n",
    "\n",
    "g=sns.barplot(\n",
    "    data=data_graph,\n",
    "    x=\"Popularity\", y=\"Name\", hue=\"Origin\", \n",
    "   palette=\"dark\",dodge=False\n",
    ")\n",
    "\n",
    "# Setting graph axis, legend and title\n",
    "g.set(xlim=(80,100))\n",
    "g.set_title(\"Spotify's Artist Popularity Rating\",fontsize=30)\n",
    "g.set_xlabel(\"Spotify's Popularity Rating\",fontsize=15)\n",
    "g.set_ylabel(\"Artists' Names\",fontsize=15)\n",
    "# g.legend.set_title(\"Origin\")\n",
    "g.legend(title=\"Origin\",title_fontsize=15,fontsize=15)\n",
    "\n"
   ]
  },
  {
   "cell_type": "markdown",
   "id": "e896e4e8-e5de-4eff-b370-2cc552d21549",
   "metadata": {},
   "source": [
    "As shown in the graph the most popular artists comes from North America. However, there are two Latin American artists that have more than 90 popularity points which reflects that Latin American music is becoming well known worlwide. "
   ]
  },
  {
   "cell_type": "markdown",
   "id": "42457f48-11a2-4dd6-94c6-5dad407b8435",
   "metadata": {},
   "source": [
    "## Checking Artists' Followers"
   ]
  },
  {
   "cell_type": "code",
   "execution_count": 213,
   "id": "62bd50d6-d512-43ed-9109-f42454c272f3",
   "metadata": {
    "execution": {
     "iopub.execute_input": "2021-11-29T21:35:24.344613Z",
     "iopub.status.busy": "2021-11-29T21:35:24.344276Z",
     "iopub.status.idle": "2021-11-29T21:35:24.619932Z",
     "shell.execute_reply": "2021-11-29T21:35:24.619225Z",
     "shell.execute_reply.started": "2021-11-29T21:35:24.344590Z"
    },
    "tags": []
   },
   "outputs": [
    {
     "data": {
      "text/plain": [
       "<matplotlib.legend.Legend at 0x7f7bd278cd90>"
      ]
     },
     "execution_count": 213,
     "metadata": {},
     "output_type": "execute_result"
    },
    {
     "data": {
      "image/png": "[encoded data removed]",
      "text/plain": [
       "<Figure size 1080x576 with 1 Axes>"
      ]
     },
     "metadata": {},
     "output_type": "display_data"
    }
   ],
   "source": [
    "sns.set_theme(style=\"whitegrid\")\n",
    "\n",
    "plt.subplots(figsize=(15, 8)) \n",
    "\n",
    "data_graph=data_set_artists.sort_values(\"Followers\",ascending=False)\n",
    "data_graph[\"Followers\"]=data_graph[\"Followers\"]/1000000\n",
    "\n",
    "g=sns.barplot(\n",
    "    data=data_graph,\n",
    "    x=\"Followers\", y=\"Name\", hue=\"Origin\", \n",
    "   palette=\"dark\",dodge=False\n",
    ")\n",
    "\n",
    "# Setting graph axis, legend and title\n",
    "g.set(xlim=(20,75))\n",
    "g.set_title(\"Artists' Number of Followers\",fontsize=30)\n",
    "g.set_xlabel(\"Number of Followers (in millions)\",fontsize=15)\n",
    "g.set_ylabel(\"Artists' Names\",fontsize=15)\n",
    "# g.legend.set_title(\"Origin\")\n",
    "g.legend(title=\"Origin\",title_fontsize=15,fontsize=15)"
   ]
  },
  {
   "cell_type": "markdown",
   "id": "57704d1f-1449-4a1d-9437-4895fbff09ea",
   "metadata": {},
   "source": [
    "The previous graph shows that popularity is not directly related to the number of followers. Many would think that the number of followers will dictate the level of popularity however Spotify's Popularity rating depends only in the popularity of the artist's tracks as stated in Spotify's Developers Web Page (https://developer.spotify.com/documentation/web-api/reference/#/operations/get-an-artist). "
   ]
  },
  {
   "cell_type": "markdown",
   "id": "6bd23a6f-482d-4a25-9d09-fbd4632a1bdc",
   "metadata": {},
   "source": [
    "## Checking Number of Generes Played by Artists"
   ]
  },
  {
   "cell_type": "code",
   "execution_count": null,
   "id": "8a689fe9-dbc1-4fc6-a93c-6439ca26efc4",
   "metadata": {},
   "outputs": [],
   "source": []
  },
  {
   "cell_type": "code",
   "execution_count": null,
   "id": "aca17a0f-2566-4601-a9a2-d0d9397e2fc7",
   "metadata": {},
   "outputs": [],
   "source": []
  },
  {
   "cell_type": "code",
   "execution_count": null,
   "id": "b3fa467f-db34-46d6-a664-74953940b81b",
   "metadata": {},
   "outputs": [],
   "source": []
  }
 ],
 "metadata": {
  "kernelspec": {
   "display_name": "Python 3 (ipykernel)",
   "language": "python",
   "name": "python3"
  },
  "language_info": {
   "codemirror_mode": {
    "name": "ipython",
    "version": 3
   },
   "file_extension": ".py",
   "mimetype": "text/x-python",
   "name": "python",
   "nbconvert_exporter": "python",
   "pygments_lexer": "ipython3",
   "version": "3.8.10"
  }
 },
 "nbformat": 4,
 "nbformat_minor": 5
}
