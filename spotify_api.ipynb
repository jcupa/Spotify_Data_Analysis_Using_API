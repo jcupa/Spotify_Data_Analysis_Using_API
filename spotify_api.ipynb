{
 "cells": [
  {
   "cell_type": "markdown",
   "id": "26659df0-a62d-4fd4-abf6-3dfb1cdc9f9a",
   "metadata": {},
   "source": [
    "# Obtaining Data from Spotify API"
   ]
  },
  {
   "cell_type": "markdown",
   "id": "d8dd8fe3-353d-4d12-a49e-b273df4ae30d",
   "metadata": {},
   "source": [
    "## Creating access token"
   ]
  },
  {
   "cell_type": "code",
   "execution_count": 97,
   "id": "eb4fe5a7-bf9f-4a05-963a-7ac114d183e1",
   "metadata": {
    "execution": {
     "iopub.execute_input": "2021-11-26T00:58:08.646596Z",
     "iopub.status.busy": "2021-11-26T00:58:08.646274Z",
     "iopub.status.idle": "2021-11-26T00:58:08.649786Z",
     "shell.execute_reply": "2021-11-26T00:58:08.648926Z",
     "shell.execute_reply.started": "2021-11-26T00:58:08.646575Z"
    },
    "tags": []
   },
   "outputs": [],
   "source": [
    "import requests"
   ]
  },
  {
   "cell_type": "code",
   "execution_count": 98,
   "id": "74bad27c-19fa-4b66-afd6-950e9e126d84",
   "metadata": {
    "execution": {
     "iopub.execute_input": "2021-11-26T00:58:09.020192Z",
     "iopub.status.busy": "2021-11-26T00:58:09.019542Z",
     "iopub.status.idle": "2021-11-26T00:58:09.024169Z",
     "shell.execute_reply": "2021-11-26T00:58:09.023236Z",
     "shell.execute_reply.started": "2021-11-26T00:58:09.020164Z"
    },
    "tags": []
   },
   "outputs": [],
   "source": [
    "Client_ID=\"a935b8cf62cb47ebabdf2ba5abda22ba\"\n",
    "Client_Secret=\"4141b14831444331a3d0cec6510628cb\""
   ]
  },
  {
   "cell_type": "code",
   "execution_count": 99,
   "id": "975d4c03-8df5-4c39-9943-d72b8e009acd",
   "metadata": {
    "execution": {
     "iopub.execute_input": "2021-11-26T00:58:09.425328Z",
     "iopub.status.busy": "2021-11-26T00:58:09.424469Z",
     "iopub.status.idle": "2021-11-26T00:58:09.429401Z",
     "shell.execute_reply": "2021-11-26T00:58:09.428437Z",
     "shell.execute_reply.started": "2021-11-26T00:58:09.425301Z"
    },
    "tags": []
   },
   "outputs": [],
   "source": [
    "url_auth='https://accounts.spotify.com/api/token'"
   ]
  },
  {
   "cell_type": "code",
   "execution_count": 100,
   "id": "a8c2d060-4d34-4765-868c-3e6bd5965095",
   "metadata": {
    "execution": {
     "iopub.execute_input": "2021-11-26T00:58:09.936278Z",
     "iopub.status.busy": "2021-11-26T00:58:09.935675Z",
     "iopub.status.idle": "2021-11-26T00:58:10.425825Z",
     "shell.execute_reply": "2021-11-26T00:58:10.425218Z",
     "shell.execute_reply.started": "2021-11-26T00:58:09.936256Z"
    },
    "tags": []
   },
   "outputs": [],
   "source": [
    "#requesting token\n",
    "auth_request=requests.post(url_auth,{\n",
    "    \"grant_type\": 'client_credentials',\n",
    "    \"client_id\":Client_ID,\n",
    "    \"client_secret\":Client_Secret,\n",
    "})"
   ]
  },
  {
   "cell_type": "code",
   "execution_count": 101,
   "id": "4ba9240a-a309-4314-bbd1-95567cda7101",
   "metadata": {
    "execution": {
     "iopub.execute_input": "2021-11-26T00:58:10.570126Z",
     "iopub.status.busy": "2021-11-26T00:58:10.569320Z",
     "iopub.status.idle": "2021-11-26T00:58:10.574236Z",
     "shell.execute_reply": "2021-11-26T00:58:10.573163Z",
     "shell.execute_reply.started": "2021-11-26T00:58:10.570101Z"
    },
    "tags": []
   },
   "outputs": [],
   "source": [
    "access_token=auth_request.json()[\"access_token\"] #extracting token\n",
    "# access_token"
   ]
  },
  {
   "cell_type": "code",
   "execution_count": 102,
   "id": "8b36978d-84a8-492d-8ac6-c0eff389f5a2",
   "metadata": {
    "execution": {
     "iopub.execute_input": "2021-11-26T00:58:11.203288Z",
     "iopub.status.busy": "2021-11-26T00:58:11.202547Z",
     "iopub.status.idle": "2021-11-26T00:58:11.206198Z",
     "shell.execute_reply": "2021-11-26T00:58:11.205527Z",
     "shell.execute_reply.started": "2021-11-26T00:58:11.203266Z"
    },
    "tags": []
   },
   "outputs": [],
   "source": [
    "header={\"Authorization\":\"Bearer \"+ access_token} #generating identification header\n",
    "# header"
   ]
  },
  {
   "cell_type": "markdown",
   "id": "959f1580-13ef-47b8-b833-3825a51c5ddf",
   "metadata": {},
   "source": [
    "## Requesting artists information"
   ]
  },
  {
   "cell_type": "code",
   "execution_count": 103,
   "id": "f7f628c4-f193-48e1-8ccd-6bf43c996e58",
   "metadata": {
    "execution": {
     "iopub.execute_input": "2021-11-26T00:58:15.019313Z",
     "iopub.status.busy": "2021-11-26T00:58:15.018802Z",
     "iopub.status.idle": "2021-11-26T00:58:15.022188Z",
     "shell.execute_reply": "2021-11-26T00:58:15.021466Z",
     "shell.execute_reply.started": "2021-11-26T00:58:15.019294Z"
    },
    "tags": []
   },
   "outputs": [],
   "source": [
    "url_artist=\"https://api.spotify.com/v1/artists/{}\" #url to obtain artist's information"
   ]
  },
  {
   "cell_type": "code",
   "execution_count": 104,
   "id": "e5cc7d55-9804-4fd7-b58a-178079dd4559",
   "metadata": {
    "execution": {
     "iopub.execute_input": "2021-11-26T00:58:15.520000Z",
     "iopub.status.busy": "2021-11-26T00:58:15.519499Z",
     "iopub.status.idle": "2021-11-26T00:58:15.522928Z",
     "shell.execute_reply": "2021-11-26T00:58:15.522205Z",
     "shell.execute_reply.started": "2021-11-26T00:58:15.519983Z"
    },
    "tags": []
   },
   "outputs": [],
   "source": [
    "artist_ids=[\"4q3ewBCX7sLwd24euuV69X\",\"3q7HBObVc0L8jNeTe5Gofh\"] #id of artist"
   ]
  },
  {
   "cell_type": "code",
   "execution_count": 115,
   "id": "9512d07b-e9d0-48f0-b59f-aa75ba15f251",
   "metadata": {
    "execution": {
     "iopub.execute_input": "2021-11-26T01:06:02.669786Z",
     "iopub.status.busy": "2021-11-26T01:06:02.669283Z",
     "iopub.status.idle": "2021-11-26T01:06:02.673674Z",
     "shell.execute_reply": "2021-11-26T01:06:02.673003Z",
     "shell.execute_reply.started": "2021-11-26T01:06:02.669768Z"
    },
    "tags": []
   },
   "outputs": [],
   "source": [
    "#creating function to request artist's informartion and save it in a dictionary\n",
    "def artist_info(artist_ids):\n",
    "    total_data=[]\n",
    "        \n",
    "    for i in artist_ids:\n",
    "        artist_data=requests.get(url_artist.format(i),headers=header)\n",
    "        artist_data=artist_data.json()    \n",
    "        data_artist={\"Name\":artist_data[\"name\"],\n",
    "                     \"Followers\":artist_data[\"followers\"][\"total\"],\n",
    "                     \"Popularity\":artist_data[\"popularity\"],\n",
    "                     \"Generes\":artist_data[\"genres\"]            \n",
    "        }\n",
    "        total_data.append(data_artist)\n",
    "    \n",
    "    return total_data\n",
    "    "
   ]
  },
  {
   "cell_type": "code",
   "execution_count": 116,
   "id": "9aba7ff5-f07c-4118-b118-b0aeb03c3435",
   "metadata": {
    "execution": {
     "iopub.execute_input": "2021-11-26T01:06:05.493945Z",
     "iopub.status.busy": "2021-11-26T01:06:05.493367Z",
     "iopub.status.idle": "2021-11-26T01:06:06.419046Z",
     "shell.execute_reply": "2021-11-26T01:06:06.417023Z",
     "shell.execute_reply.started": "2021-11-26T01:06:05.493923Z"
    },
    "tags": []
   },
   "outputs": [
    {
     "name": "stdout",
     "output_type": "stream",
     "text": [
      "Bad Bunny\n",
      "50 Cent\n"
     ]
    }
   ],
   "source": [
    "data=artist_info(artist_ids)"
   ]
  },
  {
   "cell_type": "code",
   "execution_count": 117,
   "id": "06e94de4-ef38-4740-a1dc-2107191aee1d",
   "metadata": {
    "execution": {
     "iopub.execute_input": "2021-11-26T01:06:08.567556Z",
     "iopub.status.busy": "2021-11-26T01:06:08.567000Z",
     "iopub.status.idle": "2021-11-26T01:06:08.571731Z",
     "shell.execute_reply": "2021-11-26T01:06:08.571058Z",
     "shell.execute_reply.started": "2021-11-26T01:06:08.567538Z"
    },
    "tags": []
   },
   "outputs": [
    {
     "data": {
      "text/plain": [
       "[{'Name': 'Bad Bunny',\n",
       "  'Followers': 39857515,\n",
       "  'Popularity': 97,\n",
       "  'Generes': ['latin', 'reggaeton', 'trap latino']},\n",
       " {'Name': '50 Cent',\n",
       "  'Followers': 8088402,\n",
       "  'Popularity': 83,\n",
       "  'Generes': ['east coast hip hop',\n",
       "   'gangster rap',\n",
       "   'hip hop',\n",
       "   'pop rap',\n",
       "   'queens hip hop',\n",
       "   'rap']}]"
      ]
     },
     "execution_count": 117,
     "metadata": {},
     "output_type": "execute_result"
    }
   ],
   "source": [
    "data"
   ]
  },
  {
   "cell_type": "code",
   "execution_count": 95,
   "id": "6f81f7a1-7a25-4f4f-8836-e7a437685a78",
   "metadata": {
    "execution": {
     "iopub.execute_input": "2021-11-26T00:57:46.625838Z",
     "iopub.status.busy": "2021-11-26T00:57:46.625253Z",
     "iopub.status.idle": "2021-11-26T00:57:47.090233Z",
     "shell.execute_reply": "2021-11-26T00:57:47.089622Z",
     "shell.execute_reply.started": "2021-11-26T00:57:46.625820Z"
    },
    "tags": []
   },
   "outputs": [],
   "source": [
    "artist_data=requests.get(url_artist.format(id),headers=header)"
   ]
  },
  {
   "cell_type": "raw",
   "id": "3ea46243-debe-483c-9010-309d1625522f",
   "metadata": {},
   "source": [
    "print(artist_data[\"items\"])"
   ]
  },
  {
   "cell_type": "code",
   "execution_count": null,
   "id": "980fdd0b-46a2-4b0e-bb36-707d191c7d37",
   "metadata": {},
   "outputs": [],
   "source": []
  }
 ],
 "metadata": {
  "kernelspec": {
   "display_name": "Python 3 (ipykernel)",
   "language": "python",
   "name": "python3"
  },
  "language_info": {
   "codemirror_mode": {
    "name": "ipython",
    "version": 3
   },
   "file_extension": ".py",
   "mimetype": "text/x-python",
   "name": "python",
   "nbconvert_exporter": "python",
   "pygments_lexer": "ipython3",
   "version": "3.8.10"
  }
 },
 "nbformat": 4,
 "nbformat_minor": 5
}
